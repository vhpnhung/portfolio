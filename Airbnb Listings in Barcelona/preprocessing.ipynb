{
 "cells": [
  {
   "cell_type": "code",
   "execution_count": 18,
   "metadata": {},
   "outputs": [],
   "source": [
    "import pandas as pd"
   ]
  },
  {
   "cell_type": "code",
   "execution_count": 19,
   "metadata": {},
   "outputs": [
    {
     "data": {
      "text/html": [
       "<div>\n",
       "<style scoped>\n",
       "    .dataframe tbody tr th:only-of-type {\n",
       "        vertical-align: middle;\n",
       "    }\n",
       "\n",
       "    .dataframe tbody tr th {\n",
       "        vertical-align: top;\n",
       "    }\n",
       "\n",
       "    .dataframe thead th {\n",
       "        text-align: right;\n",
       "    }\n",
       "</style>\n",
       "<table border=\"1\" class=\"dataframe\">\n",
       "  <thead>\n",
       "    <tr style=\"text-align: right;\">\n",
       "      <th></th>\n",
       "      <th>Unnamed: 0</th>\n",
       "      <th>id</th>\n",
       "      <th>host_id</th>\n",
       "      <th>host_is_superhost</th>\n",
       "      <th>host_listings_count</th>\n",
       "      <th>neighbourhood</th>\n",
       "      <th>zipcode</th>\n",
       "      <th>latitude</th>\n",
       "      <th>longitude</th>\n",
       "      <th>property_type</th>\n",
       "      <th>...</th>\n",
       "      <th>amenities</th>\n",
       "      <th>price</th>\n",
       "      <th>minimum_nights</th>\n",
       "      <th>has_availability</th>\n",
       "      <th>availability_30</th>\n",
       "      <th>availability_60</th>\n",
       "      <th>availability_90</th>\n",
       "      <th>availability_365</th>\n",
       "      <th>number_of_reviews_ltm</th>\n",
       "      <th>review_scores_rating</th>\n",
       "    </tr>\n",
       "  </thead>\n",
       "  <tbody>\n",
       "    <tr>\n",
       "      <th>0</th>\n",
       "      <td>0</td>\n",
       "      <td>18666</td>\n",
       "      <td>71615</td>\n",
       "      <td>f</td>\n",
       "      <td>45.0</td>\n",
       "      <td>Sant Martí</td>\n",
       "      <td>8026</td>\n",
       "      <td>41.40889</td>\n",
       "      <td>2.18555</td>\n",
       "      <td>Apartment</td>\n",
       "      <td>...</td>\n",
       "      <td>['TV', 'Internet', 'Wifi', 'Air conditioning',...</td>\n",
       "      <td>$130.00</td>\n",
       "      <td>3</td>\n",
       "      <td>t</td>\n",
       "      <td>0</td>\n",
       "      <td>0</td>\n",
       "      <td>0</td>\n",
       "      <td>182</td>\n",
       "      <td>0</td>\n",
       "      <td>80.0</td>\n",
       "    </tr>\n",
       "    <tr>\n",
       "      <th>1</th>\n",
       "      <td>1</td>\n",
       "      <td>18674</td>\n",
       "      <td>71615</td>\n",
       "      <td>f</td>\n",
       "      <td>45.0</td>\n",
       "      <td>La Sagrada Família</td>\n",
       "      <td>8025</td>\n",
       "      <td>41.40420</td>\n",
       "      <td>2.17306</td>\n",
       "      <td>Apartment</td>\n",
       "      <td>...</td>\n",
       "      <td>['TV', 'Internet', 'Wifi', 'Air conditioning',...</td>\n",
       "      <td>$60.00</td>\n",
       "      <td>1</td>\n",
       "      <td>t</td>\n",
       "      <td>3</td>\n",
       "      <td>20</td>\n",
       "      <td>50</td>\n",
       "      <td>129</td>\n",
       "      <td>10</td>\n",
       "      <td>87.0</td>\n",
       "    </tr>\n",
       "    <tr>\n",
       "      <th>2</th>\n",
       "      <td>2</td>\n",
       "      <td>21605</td>\n",
       "      <td>82522</td>\n",
       "      <td>f</td>\n",
       "      <td>2.0</td>\n",
       "      <td>Sant Martí</td>\n",
       "      <td>8018</td>\n",
       "      <td>41.40560</td>\n",
       "      <td>2.19821</td>\n",
       "      <td>Apartment</td>\n",
       "      <td>...</td>\n",
       "      <td>['TV', 'Wifi', 'Kitchen', 'Paid parking off pr...</td>\n",
       "      <td>$33.00</td>\n",
       "      <td>2</td>\n",
       "      <td>t</td>\n",
       "      <td>4</td>\n",
       "      <td>8</td>\n",
       "      <td>15</td>\n",
       "      <td>15</td>\n",
       "      <td>36</td>\n",
       "      <td>90.0</td>\n",
       "    </tr>\n",
       "  </tbody>\n",
       "</table>\n",
       "<p>3 rows × 25 columns</p>\n",
       "</div>"
      ],
      "text/plain": [
       "   Unnamed: 0     id  host_id host_is_superhost  host_listings_count  \\\n",
       "0           0  18666    71615                 f                 45.0   \n",
       "1           1  18674    71615                 f                 45.0   \n",
       "2           2  21605    82522                 f                  2.0   \n",
       "\n",
       "        neighbourhood zipcode  latitude  longitude property_type  ...  \\\n",
       "0          Sant Martí    8026  41.40889    2.18555     Apartment  ...   \n",
       "1  La Sagrada Família    8025  41.40420    2.17306     Apartment  ...   \n",
       "2          Sant Martí    8018  41.40560    2.19821     Apartment  ...   \n",
       "\n",
       "                                           amenities    price  minimum_nights  \\\n",
       "0  ['TV', 'Internet', 'Wifi', 'Air conditioning',...  $130.00               3   \n",
       "1  ['TV', 'Internet', 'Wifi', 'Air conditioning',...   $60.00               1   \n",
       "2  ['TV', 'Wifi', 'Kitchen', 'Paid parking off pr...   $33.00               2   \n",
       "\n",
       "   has_availability  availability_30 availability_60 availability_90  \\\n",
       "0                 t                0               0               0   \n",
       "1                 t                3              20              50   \n",
       "2                 t                4               8              15   \n",
       "\n",
       "   availability_365 number_of_reviews_ltm  review_scores_rating  \n",
       "0               182                     0                  80.0  \n",
       "1               129                    10                  87.0  \n",
       "2                15                    36                  90.0  \n",
       "\n",
       "[3 rows x 25 columns]"
      ]
     },
     "execution_count": 19,
     "metadata": {},
     "output_type": "execute_result"
    }
   ],
   "source": [
    "df = pd.read_csv('airbnb_barcelona.csv')\n",
    "df.head(3)"
   ]
  },
  {
   "cell_type": "code",
   "execution_count": 20,
   "metadata": {},
   "outputs": [
    {
     "name": "stdout",
     "output_type": "stream",
     "text": [
      "<class 'pandas.core.frame.DataFrame'>\n",
      "RangeIndex: 19833 entries, 0 to 19832\n",
      "Data columns (total 25 columns):\n",
      " #   Column                 Non-Null Count  Dtype  \n",
      "---  ------                 --------------  -----  \n",
      " 0   Unnamed: 0             19833 non-null  int64  \n",
      " 1   id                     19833 non-null  int64  \n",
      " 2   host_id                19833 non-null  int64  \n",
      " 3   host_is_superhost      19799 non-null  object \n",
      " 4   host_listings_count    19799 non-null  float64\n",
      " 5   neighbourhood          19823 non-null  object \n",
      " 6   zipcode                19229 non-null  object \n",
      " 7   latitude               19833 non-null  float64\n",
      " 8   longitude              19833 non-null  float64\n",
      " 9   property_type          19833 non-null  object \n",
      " 10  room_type              19833 non-null  object \n",
      " 11  accommodates           19833 non-null  int64  \n",
      " 12  bathrooms              19824 non-null  float64\n",
      " 13  bedrooms               19830 non-null  float64\n",
      " 14  beds                   19799 non-null  float64\n",
      " 15  amenities              19833 non-null  object \n",
      " 16  price                  19833 non-null  object \n",
      " 17  minimum_nights         19833 non-null  int64  \n",
      " 18  has_availability       19833 non-null  object \n",
      " 19  availability_30        19833 non-null  int64  \n",
      " 20  availability_60        19833 non-null  int64  \n",
      " 21  availability_90        19833 non-null  int64  \n",
      " 22  availability_365       19833 non-null  int64  \n",
      " 23  number_of_reviews_ltm  19833 non-null  int64  \n",
      " 24  review_scores_rating   14986 non-null  float64\n",
      "dtypes: float64(7), int64(10), object(8)\n",
      "memory usage: 3.8+ MB\n"
     ]
    }
   ],
   "source": [
    "df.info()"
   ]
  },
  {
   "cell_type": "code",
   "execution_count": 21,
   "metadata": {},
   "outputs": [
    {
     "data": {
      "text/plain": [
       "Unnamed: 0                  0\n",
       "id                          0\n",
       "host_id                     0\n",
       "host_is_superhost          34\n",
       "host_listings_count        34\n",
       "neighbourhood              10\n",
       "zipcode                   604\n",
       "latitude                    0\n",
       "longitude                   0\n",
       "property_type               0\n",
       "room_type                   0\n",
       "accommodates                0\n",
       "bathrooms                   9\n",
       "bedrooms                    3\n",
       "beds                       34\n",
       "amenities                   0\n",
       "price                       0\n",
       "minimum_nights              0\n",
       "has_availability            0\n",
       "availability_30             0\n",
       "availability_60             0\n",
       "availability_90             0\n",
       "availability_365            0\n",
       "number_of_reviews_ltm       0\n",
       "review_scores_rating     4847\n",
       "dtype: int64"
      ]
     },
     "execution_count": 21,
     "metadata": {},
     "output_type": "execute_result"
    }
   ],
   "source": [
    "df.isnull().sum()"
   ]
  },
  {
   "cell_type": "markdown",
   "metadata": {},
   "source": [
    "# Preprocessing\n",
    "1. Drop column `Unnamed: 0` + `zipcode`\n",
    "2. Drop NA in `beds`, `bathrooms`, `bedrooms`, `host_is_superhost`, `host_listings_count`\n",
    "3. Fill NA in  `review_scores_rating` by 0"
   ]
  },
  {
   "cell_type": "code",
   "execution_count": 22,
   "metadata": {},
   "outputs": [
    {
     "data": {
      "text/plain": [
       "id                       0\n",
       "host_id                  0\n",
       "host_is_superhost        0\n",
       "host_listings_count      0\n",
       "neighbourhood            0\n",
       "latitude                 0\n",
       "longitude                0\n",
       "property_type            0\n",
       "room_type                0\n",
       "accommodates             0\n",
       "bathrooms                0\n",
       "bedrooms                 0\n",
       "beds                     0\n",
       "amenities                0\n",
       "price                    0\n",
       "minimum_nights           0\n",
       "has_availability         0\n",
       "availability_30          0\n",
       "availability_60          0\n",
       "availability_90          0\n",
       "availability_365         0\n",
       "number_of_reviews_ltm    0\n",
       "review_scores_rating     0\n",
       "dtype: int64"
      ]
     },
     "execution_count": 22,
     "metadata": {},
     "output_type": "execute_result"
    }
   ],
   "source": [
    "df.drop(['zipcode', 'Unnamed: 0'], axis=1, inplace=True)\n",
    "df.dropna(subset=['host_is_superhost', 'host_listings_count', 'beds', 'bathrooms', 'bedrooms', 'neighbourhood'], ignore_index=True, inplace=True)\n",
    "df['review_scores_rating'].fillna(0, inplace=True)\n",
    "\n",
    "df.isnull().sum()"
   ]
  },
  {
   "cell_type": "markdown",
   "metadata": {},
   "source": [
    "4. Column `host_is_superhost` + `has_availability` to int"
   ]
  },
  {
   "cell_type": "code",
   "execution_count": 23,
   "metadata": {},
   "outputs": [
    {
     "data": {
      "text/html": [
       "<div>\n",
       "<style scoped>\n",
       "    .dataframe tbody tr th:only-of-type {\n",
       "        vertical-align: middle;\n",
       "    }\n",
       "\n",
       "    .dataframe tbody tr th {\n",
       "        vertical-align: top;\n",
       "    }\n",
       "\n",
       "    .dataframe thead th {\n",
       "        text-align: right;\n",
       "    }\n",
       "</style>\n",
       "<table border=\"1\" class=\"dataframe\">\n",
       "  <thead>\n",
       "    <tr style=\"text-align: right;\">\n",
       "      <th></th>\n",
       "      <th>id</th>\n",
       "      <th>host_id</th>\n",
       "      <th>host_is_superhost</th>\n",
       "      <th>host_listings_count</th>\n",
       "      <th>neighbourhood</th>\n",
       "      <th>latitude</th>\n",
       "      <th>longitude</th>\n",
       "      <th>property_type</th>\n",
       "      <th>room_type</th>\n",
       "      <th>accommodates</th>\n",
       "      <th>...</th>\n",
       "      <th>amenities</th>\n",
       "      <th>price</th>\n",
       "      <th>minimum_nights</th>\n",
       "      <th>has_availability</th>\n",
       "      <th>availability_30</th>\n",
       "      <th>availability_60</th>\n",
       "      <th>availability_90</th>\n",
       "      <th>availability_365</th>\n",
       "      <th>number_of_reviews_ltm</th>\n",
       "      <th>review_scores_rating</th>\n",
       "    </tr>\n",
       "  </thead>\n",
       "  <tbody>\n",
       "    <tr>\n",
       "      <th>0</th>\n",
       "      <td>18666</td>\n",
       "      <td>71615</td>\n",
       "      <td>0</td>\n",
       "      <td>45.0</td>\n",
       "      <td>Sant Martí</td>\n",
       "      <td>41.40889</td>\n",
       "      <td>2.18555</td>\n",
       "      <td>Apartment</td>\n",
       "      <td>Entire home/apt</td>\n",
       "      <td>6</td>\n",
       "      <td>...</td>\n",
       "      <td>['TV', 'Internet', 'Wifi', 'Air conditioning',...</td>\n",
       "      <td>$130.00</td>\n",
       "      <td>3</td>\n",
       "      <td>1</td>\n",
       "      <td>0</td>\n",
       "      <td>0</td>\n",
       "      <td>0</td>\n",
       "      <td>182</td>\n",
       "      <td>0</td>\n",
       "      <td>80.0</td>\n",
       "    </tr>\n",
       "    <tr>\n",
       "      <th>1</th>\n",
       "      <td>18674</td>\n",
       "      <td>71615</td>\n",
       "      <td>0</td>\n",
       "      <td>45.0</td>\n",
       "      <td>La Sagrada Família</td>\n",
       "      <td>41.40420</td>\n",
       "      <td>2.17306</td>\n",
       "      <td>Apartment</td>\n",
       "      <td>Entire home/apt</td>\n",
       "      <td>8</td>\n",
       "      <td>...</td>\n",
       "      <td>['TV', 'Internet', 'Wifi', 'Air conditioning',...</td>\n",
       "      <td>$60.00</td>\n",
       "      <td>1</td>\n",
       "      <td>1</td>\n",
       "      <td>3</td>\n",
       "      <td>20</td>\n",
       "      <td>50</td>\n",
       "      <td>129</td>\n",
       "      <td>10</td>\n",
       "      <td>87.0</td>\n",
       "    </tr>\n",
       "  </tbody>\n",
       "</table>\n",
       "<p>2 rows × 23 columns</p>\n",
       "</div>"
      ],
      "text/plain": [
       "      id  host_id  host_is_superhost  host_listings_count       neighbourhood  \\\n",
       "0  18666    71615                  0                 45.0          Sant Martí   \n",
       "1  18674    71615                  0                 45.0  La Sagrada Família   \n",
       "\n",
       "   latitude  longitude property_type        room_type  accommodates  ...  \\\n",
       "0  41.40889    2.18555     Apartment  Entire home/apt             6  ...   \n",
       "1  41.40420    2.17306     Apartment  Entire home/apt             8  ...   \n",
       "\n",
       "                                           amenities    price  minimum_nights  \\\n",
       "0  ['TV', 'Internet', 'Wifi', 'Air conditioning',...  $130.00               3   \n",
       "1  ['TV', 'Internet', 'Wifi', 'Air conditioning',...   $60.00               1   \n",
       "\n",
       "  has_availability availability_30  availability_60  availability_90  \\\n",
       "0                1               0                0                0   \n",
       "1                1               3               20               50   \n",
       "\n",
       "   availability_365  number_of_reviews_ltm  review_scores_rating  \n",
       "0               182                      0                  80.0  \n",
       "1               129                     10                  87.0  \n",
       "\n",
       "[2 rows x 23 columns]"
      ]
     },
     "execution_count": 23,
     "metadata": {},
     "output_type": "execute_result"
    }
   ],
   "source": [
    "df['host_is_superhost'].replace({'f':0, 't': 1}, inplace=True)\n",
    "df['has_availability'].replace({'f':0, 't': 1}, inplace=True)\n",
    "\n",
    "df.head(2)"
   ]
  },
  {
   "cell_type": "markdown",
   "metadata": {},
   "source": [
    "5. Convert `price` to float"
   ]
  },
  {
   "cell_type": "code",
   "execution_count": 24,
   "metadata": {},
   "outputs": [
    {
     "data": {
      "text/plain": [
       "0        130.0\n",
       "1         60.0\n",
       "2         33.0\n",
       "3        210.0\n",
       "4         45.0\n",
       "         ...  \n",
       "19740     16.0\n",
       "19741     30.0\n",
       "19742     55.0\n",
       "19743    125.0\n",
       "19744     95.0\n",
       "Name: price, Length: 19745, dtype: float64"
      ]
     },
     "execution_count": 24,
     "metadata": {},
     "output_type": "execute_result"
    }
   ],
   "source": [
    "df['price'] = df['price'].replace('[\\$,]', '', regex=True).astype(float)\n",
    "df['price']"
   ]
  },
  {
   "cell_type": "code",
   "execution_count": 25,
   "metadata": {},
   "outputs": [],
   "source": [
    "df2 = df.copy()\n",
    "df.drop('amenities', axis=1, inplace=True)"
   ]
  },
  {
   "cell_type": "markdown",
   "metadata": {},
   "source": [
    "Extract file"
   ]
  },
  {
   "cell_type": "code",
   "execution_count": 26,
   "metadata": {},
   "outputs": [],
   "source": [
    "df.to_csv('cleaned_airbnb_barcelona.csv')"
   ]
  },
  {
   "cell_type": "markdown",
   "metadata": {},
   "source": [
    "# New table\n",
    "Create a new table that contains amenity properties"
   ]
  },
  {
   "cell_type": "code",
   "execution_count": 27,
   "metadata": {},
   "outputs": [],
   "source": [
    "import ast\n",
    "from sklearn.preprocessing import MultiLabelBinarizer"
   ]
  },
  {
   "cell_type": "code",
   "execution_count": 28,
   "metadata": {},
   "outputs": [
    {
     "data": {
      "text/html": [
       "<div>\n",
       "<style scoped>\n",
       "    .dataframe tbody tr th:only-of-type {\n",
       "        vertical-align: middle;\n",
       "    }\n",
       "\n",
       "    .dataframe tbody tr th {\n",
       "        vertical-align: top;\n",
       "    }\n",
       "\n",
       "    .dataframe thead th {\n",
       "        text-align: right;\n",
       "    }\n",
       "</style>\n",
       "<table border=\"1\" class=\"dataframe\">\n",
       "  <thead>\n",
       "    <tr style=\"text-align: right;\">\n",
       "      <th></th>\n",
       "      <th>id</th>\n",
       "      <th>amenities</th>\n",
       "    </tr>\n",
       "  </thead>\n",
       "  <tbody>\n",
       "    <tr>\n",
       "      <th>0</th>\n",
       "      <td>18666</td>\n",
       "      <td>['TV', 'Internet', 'Wifi', 'Air conditioning',...</td>\n",
       "    </tr>\n",
       "    <tr>\n",
       "      <th>1</th>\n",
       "      <td>18674</td>\n",
       "      <td>['TV', 'Internet', 'Wifi', 'Air conditioning',...</td>\n",
       "    </tr>\n",
       "    <tr>\n",
       "      <th>2</th>\n",
       "      <td>21605</td>\n",
       "      <td>['TV', 'Wifi', 'Kitchen', 'Paid parking off pr...</td>\n",
       "    </tr>\n",
       "  </tbody>\n",
       "</table>\n",
       "</div>"
      ],
      "text/plain": [
       "      id                                          amenities\n",
       "0  18666  ['TV', 'Internet', 'Wifi', 'Air conditioning',...\n",
       "1  18674  ['TV', 'Internet', 'Wifi', 'Air conditioning',...\n",
       "2  21605  ['TV', 'Wifi', 'Kitchen', 'Paid parking off pr..."
      ]
     },
     "execution_count": 28,
     "metadata": {},
     "output_type": "execute_result"
    }
   ],
   "source": [
    "amenity = df2[['id','amenities']]\n",
    "amenity.head(3)"
   ]
  },
  {
   "cell_type": "markdown",
   "metadata": {},
   "source": [
    "1. Convert from object to list"
   ]
  },
  {
   "cell_type": "code",
   "execution_count": 29,
   "metadata": {},
   "outputs": [
    {
     "name": "stderr",
     "output_type": "stream",
     "text": [
      "C:\\Users\\ASUS FLIP 14\\AppData\\Local\\Temp\\ipykernel_7708\\3944619388.py:1: SettingWithCopyWarning: \n",
      "A value is trying to be set on a copy of a slice from a DataFrame.\n",
      "Try using .loc[row_indexer,col_indexer] = value instead\n",
      "\n",
      "See the caveats in the documentation: https://pandas.pydata.org/pandas-docs/stable/user_guide/indexing.html#returning-a-view-versus-a-copy\n",
      "  amenity['amenities'] = amenity['amenities'].apply(ast.literal_eval)\n"
     ]
    }
   ],
   "source": [
    "amenity['amenities'] = amenity['amenities'].apply(ast.literal_eval)"
   ]
  },
  {
   "cell_type": "markdown",
   "metadata": {},
   "source": [
    "2. Encode each amenity"
   ]
  },
  {
   "cell_type": "code",
   "execution_count": 30,
   "metadata": {},
   "outputs": [],
   "source": [
    "# Initialize the MultiLabelBinarizer\n",
    "mlb = MultiLabelBinarizer()\n",
    "\n",
    "# One-hot encode the 'amenities' column\n",
    "amenities_encoded = pd.DataFrame(mlb.fit_transform(amenity['amenities']), columns=mlb.classes_, index=amenity.index)\n",
    "\n",
    "# Concatenate the original DataFrame with the new one-hot encoded columns\n",
    "amenity = pd.concat([amenity, amenities_encoded], axis=1)"
   ]
  },
  {
   "cell_type": "markdown",
   "metadata": {},
   "source": [
    "3. Filter out only most 20 common amenities"
   ]
  },
  {
   "cell_type": "code",
   "execution_count": 31,
   "metadata": {},
   "outputs": [],
   "source": [
    "top20_amenity = amenity.iloc[:,2:].sum().sort_values(ascending=False).index[:20]"
   ]
  },
  {
   "cell_type": "code",
   "execution_count": 32,
   "metadata": {},
   "outputs": [],
   "source": [
    "amenity = amenity.set_index('id')\n",
    "amenity = amenity[top20_amenity].reset_index()"
   ]
  },
  {
   "cell_type": "markdown",
   "metadata": {},
   "source": [
    "5. Save to new csv"
   ]
  },
  {
   "cell_type": "code",
   "execution_count": 33,
   "metadata": {},
   "outputs": [],
   "source": [
    "amenity.to_csv('amenity.csv')"
   ]
  }
 ],
 "metadata": {
  "kernelspec": {
   "display_name": "Python 3",
   "language": "python",
   "name": "python3"
  },
  "language_info": {
   "codemirror_mode": {
    "name": "ipython",
    "version": 3
   },
   "file_extension": ".py",
   "mimetype": "text/x-python",
   "name": "python",
   "nbconvert_exporter": "python",
   "pygments_lexer": "ipython3",
   "version": "3.11.4"
  }
 },
 "nbformat": 4,
 "nbformat_minor": 2
}
