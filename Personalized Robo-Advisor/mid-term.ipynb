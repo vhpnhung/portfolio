{
 "cells": [
  {
   "cell_type": "code",
   "execution_count": 2,
   "metadata": {},
   "outputs": [],
   "source": [
    "# to handle data\n",
    "import numpy as np\n",
    "import pandas as pd\n",
    "\n",
    "# financial data APIs\n",
    "import pandas_datareader.data as web\n",
    "import yfinance as yf\n",
    "import gspread as gs\n",
    "\n",
    "# to plot the graphs\n",
    "import matplotlib.pyplot as plt\n",
    "import seaborn as sns\n",
    "\n",
    "# to optimize\n",
    "import scipy.optimize as sco\n",
    "\n",
    "# to use Time Series Analysis\n",
    "import statsmodels.api as sm\n",
    "from statsmodels.tsa import stattools\n",
    "from statsmodels.tsa.arima.model import ARIMA\n",
    "\n",
    "# others\n",
    "from datetime import datetime\n",
    "import numpy_financial as npfin"
   ]
  },
  {
   "cell_type": "markdown",
   "metadata": {},
   "source": [
    "# GOALS"
   ]
  },
  {
   "cell_type": "code",
   "execution_count": 345,
   "metadata": {},
   "outputs": [
    {
     "data": {
      "text/plain": [
       "0.09934621846944465"
      ]
     },
     "execution_count": 345,
     "metadata": {},
     "output_type": "execute_result"
    }
   ],
   "source": [
    "fv = 1200000 # goal\n",
    "t = 15 # years\n",
    "pv = 15000 # initial investment\n",
    "pmt = 3000 # monthly return\n",
    "\n",
    "ror = npfin.rate(fv=-fv, pv=pv, pmt=pmt*12, nper=t)\n",
    "ror"
   ]
  },
  {
   "cell_type": "markdown",
   "metadata": {},
   "source": [
    "# DATA"
   ]
  },
  {
   "cell_type": "code",
   "execution_count": null,
   "metadata": {},
   "outputs": [],
   "source": [
    "# #get from Figma\n",
    "# stock_list = ' GC=F, CITAX, AMZN,AAPL, JNJ, GM, MGK, IEF, XLG'\n",
    "\n",
    "# #convert to list and remove whitespace\n",
    "# stock_list = [stock.strip() for stock in stock_list.split(',')]\n",
    "\n",
    "# #Define the start and end dates for historical data\n",
    "# start_date = '2015-01-01'\n",
    "# end_date = datetime.today().strftime('%Y-%m-%d')\n",
    "\n",
    "# #Loop through each ticker and collect historical data\n",
    "# stocks = pd.DataFrame()\n",
    "\n",
    "# for ticker in stock_list:\n",
    "#     try:\n",
    "#         # Download historical data for the current ticker\n",
    "#         data = yf.download(ticker, start=start_date, end=end_date)\n",
    "        \n",
    "#         # Add the 'Close' prices to the stocks DataFrame\n",
    "#         stocks[ticker] = data['Close']\n",
    "        \n",
    "#         print(f\"Downloaded data for {ticker}\")\n",
    "#     except Exception as e:\n",
    "#         print(f\"Error downloading data for {ticker}: {str(e)}\")"
   ]
  },
  {
   "cell_type": "code",
   "execution_count": null,
   "metadata": {},
   "outputs": [
    {
     "name": "stdout",
     "output_type": "stream",
     "text": [
      "[*********************100%%**********************]  1 of 1 completed\n",
      "[*********************100%%**********************]  1 of 1 completed\n",
      "Downloaded data for AOS\n",
      "[*********************100%%**********************]  1 of 1 completed\n",
      "Downloaded data for ABT\n",
      "[*********************100%%**********************]  1 of 1 completed\n",
      "Downloaded data for ABBV\n",
      "[*********************100%%**********************]  1 of 1 completed\n",
      "Downloaded data for ACN\n",
      "[*********************100%%**********************]  1 of 1 completed\n",
      "[*********************100%%**********************]  1 of 1 completed\n",
      "Downloaded data for ADBE\n",
      "[*********************100%%**********************]  1 of 1 completed\n",
      "Downloaded data for ADP\n",
      "[*********************100%%**********************]  1 of 1 completed\n",
      "[*********************100%%**********************]  1 of 1 completed\n",
      "Downloaded data for AFL\n",
      "[*********************100%%**********************]  1 of 1 completed\n",
      "Downloaded data for A\n",
      "[*********************100%%**********************]  1 of 1 completed\n",
      "[*********************100%%**********************]  1 of 1 completed\n",
      "Downloaded data for APD\n",
      "[*********************100%%**********************]  1 of 1 completed\n",
      "Downloaded data for AKAM\n",
      "[*********************100%%**********************]  1 of 1 completed\n",
      "[*********************100%%**********************]  1 of 1 completed\n",
      "Downloaded data for ALB\n",
      "[*********************100%%**********************]  1 of 1 completed\n",
      "[*********************100%%**********************]  1 of 1 completed\n",
      "Downloaded data for ALGN\n",
      "[*********************100%%**********************]  1 of 1 completed\n",
      "Downloaded data for ALLE\n",
      "[*********************100%%**********************]  1 of 1 completed\n",
      "[*********************100%%**********************]  1 of 1 completed\n",
      "Downloaded data for ALL\n",
      "[*********************100%%**********************]  1 of 1 completed\n",
      "Downloaded data for GOOGL\n",
      "[*********************100%%**********************]  1 of 1 completed\n",
      "Downloaded data for GOOG\n",
      "[*********************100%%**********************]  1 of 1 completed\n",
      "[*********************100%%**********************]  1 of 1 completed\n",
      "Downloaded data for AMZN\n",
      "[*********************100%%**********************]  1 of 1 completed\n",
      "[*********************100%%**********************]  1 of 1 completed\n",
      "Downloaded data for AMD\n",
      "[*********************100%%**********************]  1 of 1 completed\n",
      "[*********************100%%**********************]  1 of 1 completed\n",
      "[*********************100%%**********************]  1 of 1 completed\n",
      "[*********************100%%**********************]  1 of 1 completed\n",
      "[*********************100%%**********************]  1 of 1 completed\n",
      "[*********************100%%**********************]  1 of 1 completed\n",
      "Downloaded data for AMT\n",
      "[*********************100%%**********************]  1 of 1 completed\n",
      "Downloaded data for AWK\n",
      "[*********************100%%**********************]  1 of 1 completed\n",
      "Downloaded data for AMP\n",
      "[*********************100%%**********************]  1 of 1 completed\n",
      "Downloaded data for AME\n",
      "[*********************100%%**********************]  1 of 1 completed\n",
      "[*********************100%%**********************]  1 of 1 completed\n",
      "Downloaded data for APH\n",
      "[*********************100%%**********************]  1 of 1 completed\n",
      "Downloaded data for ADI\n",
      "[*********************100%%**********************]  1 of 1 completed\n",
      "Downloaded data for ANSS\n",
      "[*********************100%%**********************]  1 of 1 completed\n",
      "Downloaded data for AON\n",
      "[*********************100%%**********************]  1 of 1 completed\n",
      "[*********************100%%**********************]  1 of 1 completed\n",
      "Downloaded data for AAPL\n",
      "[*********************100%%**********************]  1 of 1 completed\n",
      "Downloaded data for AMAT\n",
      "[*********************100%%**********************]  1 of 1 completed\n",
      "[*********************100%%**********************]  1 of 1 completed\n",
      "Downloaded data for ACGL\n",
      "[*********************100%%**********************]  1 of 1 completed\n",
      "Downloaded data for ANET\n",
      "[*********************100%%**********************]  1 of 1 completed\n",
      "Downloaded data for AJG\n",
      "[*********************100%%**********************]  1 of 1 completed\n",
      "Downloaded data for AIZ\n",
      "[*********************100%%**********************]  1 of 1 completed\n",
      "[*********************100%%**********************]  1 of 1 completed\n",
      "Downloaded data for ATO\n",
      "[*********************100%%**********************]  1 of 1 completed\n",
      "Downloaded data for ADSK\n",
      "[*********************100%%**********************]  1 of 1 completed\n",
      "Downloaded data for AZO\n",
      "[*********************100%%**********************]  1 of 1 completed\n",
      "[*********************100%%**********************]  1 of 1 completed\n",
      "Downloaded data for AVY\n",
      "[*********************100%%**********************]  1 of 1 completed\n",
      "Downloaded data for AXON\n",
      "[*********************100%%**********************]  1 of 1 completed\n",
      "[*********************100%%**********************]  1 of 1 completed\n",
      "[*********************100%%**********************]  1 of 1 completed\n",
      "[*********************100%%**********************]  1 of 1 completed\n",
      "[*********************100%%**********************]  1 of 1 completed\n",
      "[*********************100%%**********************]  1 of 1 completed\n",
      "Downloaded data for BDX\n",
      "[*********************100%%**********************]  1 of 1 completed\n",
      "Downloaded data for WRB\n",
      "[*********************100%%**********************]  1 of 1 completed"
     ]
    },
    {
     "name": "stderr",
     "output_type": "stream",
     "text": [
      "\n",
      "1 Failed download:\n",
      "['BRK.B']: Exception('%ticker%: No timezone found, symbol may be delisted')\n"
     ]
    },
    {
     "name": "stdout",
     "output_type": "stream",
     "text": [
      "\n",
      "[*********************100%%**********************]  1 of 1 completed\n",
      "[*********************100%%**********************]  1 of 1 completed\n",
      "Downloaded data for BIO\n",
      "[*********************100%%**********************]  1 of 1 completed\n",
      "Downloaded data for TECH\n",
      "[*********************100%%**********************]  1 of 1 completed\n",
      "[*********************100%%**********************]  1 of 1 completed\n",
      "Downloaded data for BLK\n",
      "[*********************100%%**********************]  1 of 1 completed\n",
      "Downloaded data for BX\n",
      "[*********************100%%**********************]  1 of 1 completed\n",
      "[*********************100%%**********************]  1 of 1 completed\n",
      "[*********************100%%**********************]  1 of 1 completed\n",
      "Downloaded data for BKNG\n",
      "[*********************100%%**********************]  1 of 1 completed\n",
      "[*********************100%%**********************]  1 of 1 completed\n",
      "[*********************100%%**********************]  1 of 1 completed\n",
      "Downloaded data for BSX\n",
      "[*********************100%%**********************]  1 of 1 completed\n",
      "[*********************100%%**********************]  1 of 1 completed\n",
      "Downloaded data for AVGO\n",
      "[*********************100%%**********************]  1 of 1 completed\n",
      "Downloaded data for BR\n",
      "[*********************100%%**********************]  1 of 1 completed\n",
      "Downloaded data for BRO\n",
      "[*********************100%%**********************]  1 of 1 completed"
     ]
    },
    {
     "name": "stderr",
     "output_type": "stream",
     "text": [
      "\n",
      "1 Failed download:\n",
      "['BF.B']: Exception('%ticker%: No price data found, symbol may be delisted (1d 2015-01-01 -> 2023-11-08)')\n"
     ]
    },
    {
     "name": "stdout",
     "output_type": "stream",
     "text": [
      "\n",
      "[*********************100%%**********************]  1 of 1 completed\n",
      "[*********************100%%**********************]  1 of 1 completed\n",
      "[*********************100%%**********************]  1 of 1 completed\n",
      "Downloaded data for CDNS\n",
      "[*********************100%%**********************]  1 of 1 completed\n",
      "Downloaded data for CZR\n",
      "[*********************100%%**********************]  1 of 1 completed\n",
      "[*********************100%%**********************]  1 of 1 completed\n",
      "[*********************100%%**********************]  1 of 1 completed\n",
      "[*********************100%%**********************]  1 of 1 completed\n",
      "[*********************100%%**********************]  1 of 1 completed\n",
      "[*********************100%%**********************]  1 of 1 completed\n",
      "[*********************100%%**********************]  1 of 1 completed\n",
      "Downloaded data for CARR\n",
      "[*********************100%%**********************]  1 of 1 completed\n",
      "[*********************100%%**********************]  1 of 1 completed\n",
      "Downloaded data for CAT\n",
      "[*********************100%%**********************]  1 of 1 completed\n",
      "Downloaded data for CBOE\n",
      "[*********************100%%**********************]  1 of 1 completed\n",
      "Downloaded data for CBRE\n",
      "[*********************100%%**********************]  1 of 1 completed\n",
      "Downloaded data for CDW\n",
      "[*********************100%%**********************]  1 of 1 completed\n",
      "Downloaded data for CE\n",
      "[*********************100%%**********************]  1 of 1 completed\n",
      "Downloaded data for COR\n",
      "[*********************100%%**********************]  1 of 1 completed\n",
      "Downloaded data for CNC\n",
      "[*********************100%%**********************]  1 of 1 completed\n",
      "[*********************100%%**********************]  1 of 1 completed\n",
      "[*********************100%%**********************]  1 of 1 completed\n",
      "Downloaded data for MGK\n",
      "[*********************100%%**********************]  1 of 1 completed\n",
      "[*********************100%%**********************]  1 of 1 completed\n",
      "Downloaded data for XLG\n",
      "[*********************100%%**********************]  1 of 1 completed\n"
     ]
    }
   ],
   "source": [
    "# Get the list of S&P 500 tickers\n",
    "sp500_tickers = pd.read_html('https://en.wikipedia.org/wiki/List_of_S%26P_500_companies')[0]\n",
    "sp500_tickers = sp500_tickers['Symbol'].tolist()[:100]\n",
    "for i in ['GC=F', 'CITAX','MGK', 'IEF', 'XLG']:\n",
    "    sp500_tickers.append(i) # gold, bond, etf x 3\n",
    "\n",
    "# Define the start and end dates for historical data\n",
    "start_date = '2015-01-01'\n",
    "end_date = datetime.today().strftime('%Y-%m-%d')\n",
    "\n",
    "# Loop through each ticker and collect historical data\n",
    "stocks = pd.DataFrame()\n",
    "\n",
    "for ticker in sp500_tickers:\n",
    "    try:\n",
    "        # Download historical data for the current ticker\n",
    "        data = yf.download(ticker, start=start_date, end=end_date)\n",
    "        \n",
    "        # Add the 'Close' prices to the stocks DataFrame - ONLY STOCK WITH HIGHER RETURN OF MORE THAN 6%\n",
    "        if np.log(data['Close'] / data['Close'].shift(1)).mean()*252 >= 0.06:\n",
    "            stocks[ticker] = data['Close']\n",
    "            print(f\"Downloaded data for {ticker}\")\n",
    "    except Exception as e:\n",
    "        print(f\"Error downloading data for {ticker}: {str(e)}\")\n",
    "\n",
    "# Add Gold to the list\n",
    "data = yf.download('GC=F', start=start_date, end=end_date)\n",
    "stocks['Gold'] = data['Close']        \n",
    "\n",
    "# Add bonds\n",
    "data = yf.download('CITAX', start=start_date, end=end_date)\n",
    "stocks['CITAX'] = data['Close']"
   ]
  },
  {
   "cell_type": "code",
   "execution_count": null,
   "metadata": {},
   "outputs": [],
   "source": [
    "stocks.to_csv(r'E:\\Nhung\\Data Analyst\\Robo-advisor\\Practice\\mid-term.csv', index=False)"
   ]
  },
  {
   "cell_type": "code",
   "execution_count": 376,
   "metadata": {},
   "outputs": [],
   "source": [
    "stocks = pd.read_csv('mid-term.csv')"
   ]
  },
  {
   "cell_type": "markdown",
   "metadata": {},
   "source": [
    "## Descriptive Analysis"
   ]
  },
  {
   "cell_type": "code",
   "execution_count": 377,
   "metadata": {},
   "outputs": [
    {
     "name": "stdout",
     "output_type": "stream",
     "text": [
      "<class 'pandas.core.frame.DataFrame'>\n",
      "RangeIndex: 917 entries, 0 to 916\n",
      "Data columns (total 62 columns):\n",
      " #   Column  Non-Null Count  Dtype  \n",
      "---  ------  --------------  -----  \n",
      " 0   AOS     917 non-null    float64\n",
      " 1   ABT     917 non-null    float64\n",
      " 2   ABBV    917 non-null    float64\n",
      " 3   ACN     917 non-null    float64\n",
      " 4   ADBE    917 non-null    float64\n",
      " 5   ADP     917 non-null    float64\n",
      " 6   AFL     917 non-null    float64\n",
      " 7   A       917 non-null    float64\n",
      " 8   APD     917 non-null    float64\n",
      " 9   AKAM    917 non-null    float64\n",
      " 10  ALB     917 non-null    float64\n",
      " 11  ALGN    917 non-null    float64\n",
      " 12  ALLE    917 non-null    float64\n",
      " 13  ALL     917 non-null    float64\n",
      " 14  GOOGL   917 non-null    float64\n",
      " 15  GOOG    917 non-null    float64\n",
      " 16  AMZN    917 non-null    float64\n",
      " 17  AMD     917 non-null    float64\n",
      " 18  AMT     917 non-null    float64\n",
      " 19  AWK     917 non-null    float64\n",
      " 20  AMP     917 non-null    float64\n",
      " 21  AME     917 non-null    float64\n",
      " 22  APH     917 non-null    float64\n",
      " 23  ADI     917 non-null    float64\n",
      " 24  ANSS    917 non-null    float64\n",
      " 25  AON     917 non-null    float64\n",
      " 26  AAPL    917 non-null    float64\n",
      " 27  AMAT    917 non-null    float64\n",
      " 28  ACGL    917 non-null    float64\n",
      " 29  ANET    917 non-null    float64\n",
      " 30  AJG     917 non-null    float64\n",
      " 31  AIZ     917 non-null    float64\n",
      " 32  ATO     917 non-null    float64\n",
      " 33  ADSK    917 non-null    float64\n",
      " 34  AZO     917 non-null    float64\n",
      " 35  AVY     917 non-null    float64\n",
      " 36  AXON    917 non-null    float64\n",
      " 37  BDX     917 non-null    float64\n",
      " 38  WRB     917 non-null    float64\n",
      " 39  BIO     917 non-null    float64\n",
      " 40  TECH    917 non-null    float64\n",
      " 41  BLK     917 non-null    float64\n",
      " 42  BX      917 non-null    float64\n",
      " 43  BKNG    917 non-null    float64\n",
      " 44  BSX     917 non-null    float64\n",
      " 45  AVGO    917 non-null    float64\n",
      " 46  BR      917 non-null    float64\n",
      " 47  BRO     917 non-null    float64\n",
      " 48  CDNS    917 non-null    float64\n",
      " 49  CZR     917 non-null    float64\n",
      " 50  CARR    917 non-null    float64\n",
      " 51  CAT     917 non-null    float64\n",
      " 52  CBOE    917 non-null    float64\n",
      " 53  CBRE    917 non-null    float64\n",
      " 54  CDW     917 non-null    float64\n",
      " 55  CE      917 non-null    float64\n",
      " 56  COR     917 non-null    float64\n",
      " 57  CNC     917 non-null    float64\n",
      " 58  MGK     917 non-null    float64\n",
      " 59  XLG     917 non-null    float64\n",
      " 60  Gold    917 non-null    float64\n",
      " 61  CITAX   917 non-null    float64\n",
      "dtypes: float64(62)\n",
      "memory usage: 444.3 KB\n"
     ]
    }
   ],
   "source": [
    "stocks.info()"
   ]
  },
  {
   "cell_type": "code",
   "execution_count": 378,
   "metadata": {},
   "outputs": [
    {
     "data": {
      "text/html": [
       "<div>\n",
       "<style scoped>\n",
       "    .dataframe tbody tr th:only-of-type {\n",
       "        vertical-align: middle;\n",
       "    }\n",
       "\n",
       "    .dataframe tbody tr th {\n",
       "        vertical-align: top;\n",
       "    }\n",
       "\n",
       "    .dataframe thead th {\n",
       "        text-align: right;\n",
       "    }\n",
       "</style>\n",
       "<table border=\"1\" class=\"dataframe\">\n",
       "  <thead>\n",
       "    <tr style=\"text-align: right;\">\n",
       "      <th></th>\n",
       "      <th>AOS</th>\n",
       "      <th>ABT</th>\n",
       "      <th>ABBV</th>\n",
       "      <th>ACN</th>\n",
       "      <th>ADBE</th>\n",
       "      <th>ADP</th>\n",
       "      <th>AFL</th>\n",
       "      <th>A</th>\n",
       "      <th>APD</th>\n",
       "      <th>AKAM</th>\n",
       "      <th>...</th>\n",
       "      <th>CBOE</th>\n",
       "      <th>CBRE</th>\n",
       "      <th>CDW</th>\n",
       "      <th>CE</th>\n",
       "      <th>COR</th>\n",
       "      <th>CNC</th>\n",
       "      <th>MGK</th>\n",
       "      <th>XLG</th>\n",
       "      <th>Gold</th>\n",
       "      <th>CITAX</th>\n",
       "    </tr>\n",
       "  </thead>\n",
       "  <tbody>\n",
       "    <tr>\n",
       "      <th>count</th>\n",
       "      <td>917.000000</td>\n",
       "      <td>917.000000</td>\n",
       "      <td>917.000000</td>\n",
       "      <td>917.000000</td>\n",
       "      <td>917.000000</td>\n",
       "      <td>917.000000</td>\n",
       "      <td>917.000000</td>\n",
       "      <td>917.000000</td>\n",
       "      <td>917.000000</td>\n",
       "      <td>917.000000</td>\n",
       "      <td>...</td>\n",
       "      <td>917.000000</td>\n",
       "      <td>917.000000</td>\n",
       "      <td>917.000000</td>\n",
       "      <td>917.000000</td>\n",
       "      <td>917.000000</td>\n",
       "      <td>917.000000</td>\n",
       "      <td>917.000000</td>\n",
       "      <td>917.000000</td>\n",
       "      <td>917.000000</td>\n",
       "      <td>917.000000</td>\n",
       "    </tr>\n",
       "    <tr>\n",
       "      <th>mean</th>\n",
       "      <td>62.423511</td>\n",
       "      <td>109.948244</td>\n",
       "      <td>126.423599</td>\n",
       "      <td>283.247754</td>\n",
       "      <td>460.376314</td>\n",
       "      <td>203.516510</td>\n",
       "      <td>56.361778</td>\n",
       "      <td>126.836815</td>\n",
       "      <td>273.259030</td>\n",
       "      <td>101.204231</td>\n",
       "      <td>...</td>\n",
       "      <td>116.644177</td>\n",
       "      <td>75.661210</td>\n",
       "      <td>166.268811</td>\n",
       "      <td>125.786783</td>\n",
       "      <td>134.768550</td>\n",
       "      <td>71.323206</td>\n",
       "      <td>206.561908</td>\n",
       "      <td>30.452253</td>\n",
       "      <td>1835.173826</td>\n",
       "      <td>9.663795</td>\n",
       "    </tr>\n",
       "    <tr>\n",
       "      <th>std</th>\n",
       "      <td>10.123586</td>\n",
       "      <td>11.760783</td>\n",
       "      <td>25.003604</td>\n",
       "      <td>47.625103</td>\n",
       "      <td>96.998265</td>\n",
       "      <td>36.126863</td>\n",
       "      <td>12.526629</td>\n",
       "      <td>22.695268</td>\n",
       "      <td>26.547226</td>\n",
       "      <td>11.751838</td>\n",
       "      <td>...</td>\n",
       "      <td>19.026512</td>\n",
       "      <td>17.902427</td>\n",
       "      <td>30.649580</td>\n",
       "      <td>25.704065</td>\n",
       "      <td>30.144728</td>\n",
       "      <td>9.519024</td>\n",
       "      <td>29.897683</td>\n",
       "      <td>3.986533</td>\n",
       "      <td>95.925864</td>\n",
       "      <td>0.603081</td>\n",
       "    </tr>\n",
       "    <tr>\n",
       "      <th>min</th>\n",
       "      <td>34.750000</td>\n",
       "      <td>62.820000</td>\n",
       "      <td>64.500000</td>\n",
       "      <td>143.690002</td>\n",
       "      <td>275.200012</td>\n",
       "      <td>109.070000</td>\n",
       "      <td>25.690001</td>\n",
       "      <td>63.369999</td>\n",
       "      <td>176.729996</td>\n",
       "      <td>70.750000</td>\n",
       "      <td>...</td>\n",
       "      <td>76.540001</td>\n",
       "      <td>29.830000</td>\n",
       "      <td>79.559998</td>\n",
       "      <td>62.200001</td>\n",
       "      <td>73.930000</td>\n",
       "      <td>45.549999</td>\n",
       "      <td>111.480003</td>\n",
       "      <td>17.198000</td>\n",
       "      <td>1478.599976</td>\n",
       "      <td>7.950000</td>\n",
       "    </tr>\n",
       "    <tr>\n",
       "      <th>25%</th>\n",
       "      <td>55.459999</td>\n",
       "      <td>102.559998</td>\n",
       "      <td>106.500000</td>\n",
       "      <td>256.940002</td>\n",
       "      <td>378.359985</td>\n",
       "      <td>175.589996</td>\n",
       "      <td>47.049999</td>\n",
       "      <td>114.989998</td>\n",
       "      <td>252.850006</td>\n",
       "      <td>92.120003</td>\n",
       "      <td>...</td>\n",
       "      <td>100.379997</td>\n",
       "      <td>67.489998</td>\n",
       "      <td>154.080002</td>\n",
       "      <td>106.260002</td>\n",
       "      <td>106.900002</td>\n",
       "      <td>64.080002</td>\n",
       "      <td>186.259995</td>\n",
       "      <td>28.062000</td>\n",
       "      <td>1770.400024</td>\n",
       "      <td>9.140000</td>\n",
       "    </tr>\n",
       "    <tr>\n",
       "      <th>50%</th>\n",
       "      <td>64.330002</td>\n",
       "      <td>109.199997</td>\n",
       "      <td>134.229996</td>\n",
       "      <td>285.269989</td>\n",
       "      <td>462.579987</td>\n",
       "      <td>212.529999</td>\n",
       "      <td>56.750000</td>\n",
       "      <td>127.720001</td>\n",
       "      <td>281.239990</td>\n",
       "      <td>103.010002</td>\n",
       "      <td>...</td>\n",
       "      <td>118.529999</td>\n",
       "      <td>78.349998</td>\n",
       "      <td>173.589996</td>\n",
       "      <td>122.209999</td>\n",
       "      <td>132.880005</td>\n",
       "      <td>68.610001</td>\n",
       "      <td>205.320007</td>\n",
       "      <td>30.653000</td>\n",
       "      <td>1830.500000</td>\n",
       "      <td>9.570000</td>\n",
       "    </tr>\n",
       "    <tr>\n",
       "      <th>75%</th>\n",
       "      <td>69.320000</td>\n",
       "      <td>118.400002</td>\n",
       "      <td>148.699997</td>\n",
       "      <td>314.799988</td>\n",
       "      <td>515.840027</td>\n",
       "      <td>230.470001</td>\n",
       "      <td>65.550003</td>\n",
       "      <td>142.080002</td>\n",
       "      <td>292.700012</td>\n",
       "      <td>110.980003</td>\n",
       "      <td>...</td>\n",
       "      <td>127.089996</td>\n",
       "      <td>86.720001</td>\n",
       "      <td>188.649994</td>\n",
       "      <td>150.009995</td>\n",
       "      <td>158.919998</td>\n",
       "      <td>78.820000</td>\n",
       "      <td>232.009995</td>\n",
       "      <td>33.828999</td>\n",
       "      <td>1914.000000</td>\n",
       "      <td>10.280000</td>\n",
       "    </tr>\n",
       "    <tr>\n",
       "      <th>max</th>\n",
       "      <td>85.849998</td>\n",
       "      <td>141.460007</td>\n",
       "      <td>174.960007</td>\n",
       "      <td>415.420013</td>\n",
       "      <td>688.369995</td>\n",
       "      <td>269.899994</td>\n",
       "      <td>82.230003</td>\n",
       "      <td>179.279999</td>\n",
       "      <td>325.250000</td>\n",
       "      <td>121.919998</td>\n",
       "      <td>...</td>\n",
       "      <td>174.080002</td>\n",
       "      <td>110.300003</td>\n",
       "      <td>214.250000</td>\n",
       "      <td>173.820007</td>\n",
       "      <td>196.880005</td>\n",
       "      <td>97.220001</td>\n",
       "      <td>264.329987</td>\n",
       "      <td>37.367001</td>\n",
       "      <td>2051.500000</td>\n",
       "      <td>10.610000</td>\n",
       "    </tr>\n",
       "  </tbody>\n",
       "</table>\n",
       "<p>8 rows × 62 columns</p>\n",
       "</div>"
      ],
      "text/plain": [
       "              AOS         ABT        ABBV         ACN        ADBE         ADP  \\\n",
       "count  917.000000  917.000000  917.000000  917.000000  917.000000  917.000000   \n",
       "mean    62.423511  109.948244  126.423599  283.247754  460.376314  203.516510   \n",
       "std     10.123586   11.760783   25.003604   47.625103   96.998265   36.126863   \n",
       "min     34.750000   62.820000   64.500000  143.690002  275.200012  109.070000   \n",
       "25%     55.459999  102.559998  106.500000  256.940002  378.359985  175.589996   \n",
       "50%     64.330002  109.199997  134.229996  285.269989  462.579987  212.529999   \n",
       "75%     69.320000  118.400002  148.699997  314.799988  515.840027  230.470001   \n",
       "max     85.849998  141.460007  174.960007  415.420013  688.369995  269.899994   \n",
       "\n",
       "              AFL           A         APD        AKAM  ...        CBOE  \\\n",
       "count  917.000000  917.000000  917.000000  917.000000  ...  917.000000   \n",
       "mean    56.361778  126.836815  273.259030  101.204231  ...  116.644177   \n",
       "std     12.526629   22.695268   26.547226   11.751838  ...   19.026512   \n",
       "min     25.690001   63.369999  176.729996   70.750000  ...   76.540001   \n",
       "25%     47.049999  114.989998  252.850006   92.120003  ...  100.379997   \n",
       "50%     56.750000  127.720001  281.239990  103.010002  ...  118.529999   \n",
       "75%     65.550003  142.080002  292.700012  110.980003  ...  127.089996   \n",
       "max     82.230003  179.279999  325.250000  121.919998  ...  174.080002   \n",
       "\n",
       "             CBRE         CDW          CE         COR         CNC         MGK  \\\n",
       "count  917.000000  917.000000  917.000000  917.000000  917.000000  917.000000   \n",
       "mean    75.661210  166.268811  125.786783  134.768550   71.323206  206.561908   \n",
       "std     17.902427   30.649580   25.704065   30.144728    9.519024   29.897683   \n",
       "min     29.830000   79.559998   62.200001   73.930000   45.549999  111.480003   \n",
       "25%     67.489998  154.080002  106.260002  106.900002   64.080002  186.259995   \n",
       "50%     78.349998  173.589996  122.209999  132.880005   68.610001  205.320007   \n",
       "75%     86.720001  188.649994  150.009995  158.919998   78.820000  232.009995   \n",
       "max    110.300003  214.250000  173.820007  196.880005   97.220001  264.329987   \n",
       "\n",
       "              XLG         Gold       CITAX  \n",
       "count  917.000000   917.000000  917.000000  \n",
       "mean    30.452253  1835.173826    9.663795  \n",
       "std      3.986533    95.925864    0.603081  \n",
       "min     17.198000  1478.599976    7.950000  \n",
       "25%     28.062000  1770.400024    9.140000  \n",
       "50%     30.653000  1830.500000    9.570000  \n",
       "75%     33.828999  1914.000000   10.280000  \n",
       "max     37.367001  2051.500000   10.610000  \n",
       "\n",
       "[8 rows x 62 columns]"
      ]
     },
     "execution_count": 378,
     "metadata": {},
     "output_type": "execute_result"
    }
   ],
   "source": [
    "stocks.dropna(axis=0, inplace=True)\n",
    "\n",
    "stocks.describe()"
   ]
  },
  {
   "cell_type": "markdown",
   "metadata": {},
   "source": [
    "## Return\n",
    "Find as many as possible portfolios that return at (approximaetly) required rate of return"
   ]
  },
  {
   "cell_type": "code",
   "execution_count": 379,
   "metadata": {},
   "outputs": [],
   "source": [
    "# all securities return by day\n",
    "log_return_1 = np.log(stocks / stocks.shift(1))\n",
    "log_return = pd.DataFrame()\n",
    "\n",
    "# define function of portolio return\n",
    "def p_return(weights):\n",
    "  return np.dot(log_return.mean().T,weights)*252\n",
    "\n",
    "# define function of portolio risk\n",
    "def p_std(weights):\n",
    "  return np.sqrt(np.dot(weights.T, np.dot(log_return.cov().T, weights)))*252"
   ]
  },
  {
   "cell_type": "code",
   "execution_count": 380,
   "metadata": {},
   "outputs": [
    {
     "data": {
      "text/plain": [
       "['ABT', 'CNC', 'ADSK', 'BDX', 'Gold', 'CITAX', 'MGK', 'IEF', 'XLG']"
      ]
     },
     "execution_count": 380,
     "metadata": {},
     "output_type": "execute_result"
    }
   ],
   "source": [
    "# find the stocks\n",
    "security = pd.DataFrame(log_return_1.mean()/log_return_1.std()).sort_values(by=0,ascending=False)[50:54].index.tolist()\n",
    "\n",
    "for i in ['Gold', 'CITAX','MGK', 'IEF', 'XLG']:\n",
    "    security.append(i) # gold, bond, etf x 3\n",
    "\n",
    "# return of chosen assets    \n",
    "for i in security:\n",
    "    try:\n",
    "        log_return[i] = log_return_1[i]\n",
    "    except:\n",
    "        continue\n",
    "    \n",
    "noa = len(log_return.columns)\n",
    "security"
   ]
  },
  {
   "cell_type": "code",
   "execution_count": 381,
   "metadata": {},
   "outputs": [],
   "source": [
    "stocks = stocks[['ABT', 'CNC', 'ADSK', 'BDX', 'Gold', 'CITAX', 'MGK', 'XLG']]"
   ]
  },
  {
   "cell_type": "code",
   "execution_count": 382,
   "metadata": {},
   "outputs": [
    {
     "data": {
      "text/plain": [
       "ABT      0.066293\n",
       "CNC      0.080233\n",
       "ADSK     0.087769\n",
       "BDX      0.047406\n",
       "Gold     0.078492\n",
       "CITAX    0.026526\n",
       "MGK      0.193424\n",
       "XLG      0.177283\n",
       "dtype: float64"
      ]
     },
     "execution_count": 382,
     "metadata": {},
     "output_type": "execute_result"
    }
   ],
   "source": [
    "log_return.mean()*252"
   ]
  },
  {
   "cell_type": "markdown",
   "metadata": {},
   "source": [
    "### Required rate of return (RoR)"
   ]
  },
  {
   "cell_type": "code",
   "execution_count": 383,
   "metadata": {},
   "outputs": [],
   "source": [
    "# convert each stock's return into Nx1 matrix\n",
    "stock_return = np.array(log_return.mean()*252).reshape(-1,1)\n",
    "\n",
    "# calculate required rate of return\n",
    "ror = npfin.rate(fv=-fv, pv=pv, pmt=pmt*12, nper=t)\n",
    "\n",
    "# define asset return\n",
    "asset_return = np.array(log_return.mean()*252).reshape(1,-1)\n",
    "asset_std = log_return.std()"
   ]
  },
  {
   "cell_type": "markdown",
   "metadata": {},
   "source": [
    "### Possible portfolios\n",
    "Portfolio return - RoR < 0.01%"
   ]
  },
  {
   "cell_type": "code",
   "execution_count": 384,
   "metadata": {},
   "outputs": [
    {
     "name": "stderr",
     "output_type": "stream",
     "text": [
      "C:\\Users\\ASUS FLIP 14\\AppData\\Local\\Temp\\ipykernel_18604\\1765258589.py:19: DeprecationWarning:\n",
      "\n",
      "Conversion of an array with ndim > 0 to a scalar is deprecated, and will error in future. Ensure you extract a single element from your array before performing this operation. (Deprecated NumPy 1.25.)\n",
      "\n"
     ]
    },
    {
     "name": "stdout",
     "output_type": "stream",
     "text": [
      "177\n"
     ]
    }
   ],
   "source": [
    "# find nearest weight\n",
    "## define\n",
    "min_diff = 0.001\n",
    "min_acceptable = ror - min_diff\n",
    "max_accpetable = ror + 50*min_diff\n",
    "weight = []\n",
    "\n",
    "## generate randomly weights\n",
    "for _ in range(5000):\n",
    "    sample_weight_dict = {}\n",
    "    for i in range(noa-1):\n",
    "        w = np.random.rand()*100\n",
    "        while w > 40:\n",
    "            w = np.random.rand()*100\n",
    "        sample_weight_dict[stocks.columns[i]] =  w\n",
    "    sample_weight_dict[stocks.columns[-1]] = 100-np.sum(list(sample_weight_dict.values()))\n",
    "    if sample_weight_dict[stocks.columns[-1]] >= 0:\n",
    "        sample_weight = np.array([list(sample_weight_dict.values())]).reshape(-1,1)\n",
    "        sample_p_return = float(np.dot(asset_return,sample_weight))/100\n",
    "        if (sample_p_return >= ror) and (sample_p_return <= max_accpetable):\n",
    "            weight.append(sample_weight)\n",
    "\n",
    "print(len(weight))"
   ]
  },
  {
   "cell_type": "markdown",
   "metadata": {},
   "source": [
    "### Optimal portfolios\n",
    "Among those above, only choose the portfolio lie on EF. The idea is that EF is formed by portfolios with minimum risk (min var) for each return. \n",
    "\n",
    "To be clearer, each return has many many portfolios whose weights can generate that return - these are basically on the horizontal line for each return. And of course, the \"efficient: portfolio is the portfolio whose minimum variance among those portfolios\n",
    "\n",
    "`scipy.opmize,minimize` is used to find those efficient portfolios\n",
    "* Method: Sequential Least Quadratic Programming\n",
    "* Constraint: \n",
    "    * $\\Sigma weight = 1$\n",
    "    * $R_p = R_{target} $\n",
    "* Boundary of each asset: $weight_i \\in [0,1]$\n",
    "* Minimize variance"
   ]
  },
  {
   "cell_type": "code",
   "execution_count": 385,
   "metadata": {},
   "outputs": [],
   "source": [
    "## calculate return and std\n",
    "sample_p_return = [p_return(weight[i]) for i in range(len(weight))]\n",
    "sample_p_std = [p_std(weight[i]/10000) for i in range(len(weight))]"
   ]
  },
  {
   "cell_type": "code",
   "execution_count": 386,
   "metadata": {},
   "outputs": [],
   "source": [
    "# # constraints\n",
    "# ## the meaning of the first line is: Rp-Rtarget = 0 (type:eq means \"=0\"). Similar to the second line\n",
    "# constraints = ({\"type\":\"eq\", \"fun\": lambda x: p_return(x)-target},\n",
    "#                {\"type\":\"eq\", \"fun\": lambda x: np.sum(x)-1})\n",
    "\n",
    "# # set boundary\n",
    "# boundaries = tuple((0,1) for _ in range(noa))"
   ]
  },
  {
   "cell_type": "code",
   "execution_count": 387,
   "metadata": {},
   "outputs": [],
   "source": [
    "# target_return = np.linspace(min(sample_p_return),max(sample_p_return),100) # there are 50 return targets\n",
    "# target_std = []\n",
    "# pweights = []\n",
    "# x0 = np.array(noa*[1./noa])\n",
    "\n",
    "# # find efficient portfolio for each of target return\n",
    "# ## x0 assigned as follow means the first weight data entry is every asset has the same weight\n",
    "# for target in target_return:\n",
    "#   res = sco.minimize(p_std, x0=x0, method=\"SLSQP\", constraints=constraints, bounds=boundaries)\n",
    "#   target_std.append(res[\"fun\"])\n",
    "#   pweights.append(res[\"x\"])\n",
    "\n",
    "# target_std = np.array(target_std)"
   ]
  },
  {
   "cell_type": "markdown",
   "metadata": {},
   "source": [
    "## Risk\n",
    "Among those portfolios, choose the best fit for each risk tolerance. The idea here is that pick 5 portfolios from 100 \"efficient\" portfolios above *(see p2)*:\n",
    "* **Level 1 - Risk averse**: minimum risk portfolio *(not necessarily be MVP - because MVP is generated by `scipy.optimize.minimize`, while 2000 samples are generated randomly)*\n",
    "* **Level 2**: median of level 1 and 3\n",
    "* **Level 3 - Risk neutral**: maximum $\\frac{R_p}{\\sigma_p}$ *(in other words, best trade-off)*\n",
    "* **Level 4**: median of level 3 and 5\n",
    "* **Level 5 - Risk lover**: maximum return"
   ]
  },
  {
   "cell_type": "code",
   "execution_count": 388,
   "metadata": {},
   "outputs": [],
   "source": [
    "# # find the position of each level in 50 \"efficient\" portfolios\n",
    "# lv1_index = np.argmin(target_std)\n",
    "# lv3_index = np.argmax([target_return[i]/target_std[i] for i in range(len(target_return))])\n",
    "# lv5_index = np.argmax(target_return)\n",
    "# lv2_index = int((lv1_index+lv3_index)/2)\n",
    "# lv4_index = int((lv3_index+lv5_index)/2)\n",
    "# lv_index = {k:v for k,v in zip(range(1,6),[lv1_index, lv2_index, lv3_index, lv4_index, lv5_index])} # summary\n",
    "\n",
    "# lv_index"
   ]
  },
  {
   "cell_type": "code",
   "execution_count": 389,
   "metadata": {},
   "outputs": [],
   "source": [
    "# # define a function to return return, risk, weight for each level\n",
    "# def optimal_portfolio(level, stock_df):\n",
    "#     # find the weight\n",
    "#     optimal_weight = pweights[lv_index[level]]\n",
    "    \n",
    "#     # print out weight for each stock\n",
    "#     for stock,weight in zip(stock_df.columns, optimal_weight):\n",
    "#         print(stock,':',round(weight*100, 3),'%')\n",
    "    \n",
    "#     # print out risk and return of the portfolio\n",
    "#     print(f'Portfolio return (lv{level}): {round(p_return(optimal_weight)*100,3)}%')\n",
    "#     print(f'Portfolio std (lv{level}): {round(p_std(optimal_weight),3)}')\n",
    "    \n",
    "#     return optimal_weight"
   ]
  },
  {
   "cell_type": "code",
   "execution_count": 390,
   "metadata": {},
   "outputs": [
    {
     "data": {
      "text/plain": [
       "{1: 129, 2: 105, 3: 81, 4: 99, 5: 117}"
      ]
     },
     "execution_count": 390,
     "metadata": {},
     "output_type": "execute_result"
    }
   ],
   "source": [
    "# find the position of each level in 50 \"efficient\" portfolios\n",
    "lv1_index = np.argmin(sample_p_std)\n",
    "lv3_index = np.argmin([sample_p_return[i]/sample_p_std[i] for i in range(len(sample_p_return))])\n",
    "lv5_index = np.argmax(sample_p_return)\n",
    "lv2_index = int((lv1_index+lv3_index)/2)\n",
    "lv4_index = int((lv3_index+lv5_index)/2)\n",
    "lv_index = {k:v for k,v in zip(range(1,6),[lv1_index, lv2_index, lv3_index, lv4_index, lv5_index])} # summary\n",
    "\n",
    "lv_index"
   ]
  },
  {
   "cell_type": "code",
   "execution_count": 391,
   "metadata": {},
   "outputs": [],
   "source": [
    "# define a function to return return, risk, weight for each level\n",
    "def optimal_portfolio(level, stock_df):\n",
    "    # find the weight\n",
    "    optimal_weight = weight[lv_index[level]]\n",
    "    \n",
    "    # print out weight for each stock\n",
    "    for stock,w in zip(stock_df.columns, optimal_weight):\n",
    "        print(stock,':',w,'%')\n",
    "    \n",
    "    # print out risk and return of the portfolio\n",
    "    print(f'Portfolio return (lv{level}): {sample_p_return[lv_index[level]][0]}%')\n",
    "    print(f'Portfolio std (lv{level}): {sample_p_std[lv_index[level]][0][0]}')\n",
    "    \n",
    "    return optimal_weight"
   ]
  },
  {
   "cell_type": "code",
   "execution_count": 392,
   "metadata": {},
   "outputs": [
    {
     "name": "stdout",
     "output_type": "stream",
     "text": [
      "ABT : [5.80354095] %\n",
      "CNC : [27.86260404] %\n",
      "ADSK : [10.21269704] %\n",
      "BDX : [2.97856463] %\n",
      "Gold : [7.54624353] %\n",
      "CITAX : [13.90123736] %\n",
      "MGK : [24.97768657] %\n",
      "XLG : [6.71742589] %\n",
      "Portfolio return (lv2): 10.640996623608483%\n",
      "Portfolio std (lv2): 0.029704881032406493\n"
     ]
    },
    {
     "data": {
      "text/plain": [
       "9.934621846944465"
      ]
     },
     "execution_count": 392,
     "metadata": {},
     "output_type": "execute_result"
    }
   ],
   "source": [
    "level = 2\n",
    "w = optimal_portfolio(level,stocks)\n",
    "ror*100"
   ]
  },
  {
   "cell_type": "code",
   "execution_count": 393,
   "metadata": {},
   "outputs": [
    {
     "data": {
      "application/vnd.plotly.v1+json": {
       "config": {
        "plotlyServerURL": "https://plot.ly"
       },
       "data": [
        {
         "domain": {
          "x": [
           0,
           1
          ],
          "y": [
           0,
           1
          ]
         },
         "hole": 0.4,
         "hovertemplate": "label=%{label}<br>value=%{value}<extra></extra>",
         "labels": [
          "ABT",
          "CNC",
          "ADSK",
          "BDX",
          "Gold",
          "CITAX",
          "MGK",
          "XLG"
         ],
         "legendgroup": "",
         "name": "",
         "showlegend": true,
         "type": "pie",
         "values": [
          5.803540945842933,
          27.862604037731465,
          10.212697040233154,
          2.978564625830904,
          7.546243529864549,
          13.901237357998308,
          24.97768657460293,
          6.717425887895757
         ]
        }
       ],
       "layout": {
        "legend": {
         "tracegroupgap": 0
        },
        "margin": {
         "t": 60
        },
        "template": {
         "data": {
          "bar": [
           {
            "error_x": {
             "color": "#2a3f5f"
            },
            "error_y": {
             "color": "#2a3f5f"
            },
            "marker": {
             "line": {
              "color": "#E5ECF6",
              "width": 0.5
             },
             "pattern": {
              "fillmode": "overlay",
              "size": 10,
              "solidity": 0.2
             }
            },
            "type": "bar"
           }
          ],
          "barpolar": [
           {
            "marker": {
             "line": {
              "color": "#E5ECF6",
              "width": 0.5
             },
             "pattern": {
              "fillmode": "overlay",
              "size": 10,
              "solidity": 0.2
             }
            },
            "type": "barpolar"
           }
          ],
          "carpet": [
           {
            "aaxis": {
             "endlinecolor": "#2a3f5f",
             "gridcolor": "white",
             "linecolor": "white",
             "minorgridcolor": "white",
             "startlinecolor": "#2a3f5f"
            },
            "baxis": {
             "endlinecolor": "#2a3f5f",
             "gridcolor": "white",
             "linecolor": "white",
             "minorgridcolor": "white",
             "startlinecolor": "#2a3f5f"
            },
            "type": "carpet"
           }
          ],
          "choropleth": [
           {
            "colorbar": {
             "outlinewidth": 0,
             "ticks": ""
            },
            "type": "choropleth"
           }
          ],
          "contour": [
           {
            "colorbar": {
             "outlinewidth": 0,
             "ticks": ""
            },
            "colorscale": [
             [
              0,
              "#0d0887"
             ],
             [
              0.1111111111111111,
              "#46039f"
             ],
             [
              0.2222222222222222,
              "#7201a8"
             ],
             [
              0.3333333333333333,
              "#9c179e"
             ],
             [
              0.4444444444444444,
              "#bd3786"
             ],
             [
              0.5555555555555556,
              "#d8576b"
             ],
             [
              0.6666666666666666,
              "#ed7953"
             ],
             [
              0.7777777777777778,
              "#fb9f3a"
             ],
             [
              0.8888888888888888,
              "#fdca26"
             ],
             [
              1,
              "#f0f921"
             ]
            ],
            "type": "contour"
           }
          ],
          "contourcarpet": [
           {
            "colorbar": {
             "outlinewidth": 0,
             "ticks": ""
            },
            "type": "contourcarpet"
           }
          ],
          "heatmap": [
           {
            "colorbar": {
             "outlinewidth": 0,
             "ticks": ""
            },
            "colorscale": [
             [
              0,
              "#0d0887"
             ],
             [
              0.1111111111111111,
              "#46039f"
             ],
             [
              0.2222222222222222,
              "#7201a8"
             ],
             [
              0.3333333333333333,
              "#9c179e"
             ],
             [
              0.4444444444444444,
              "#bd3786"
             ],
             [
              0.5555555555555556,
              "#d8576b"
             ],
             [
              0.6666666666666666,
              "#ed7953"
             ],
             [
              0.7777777777777778,
              "#fb9f3a"
             ],
             [
              0.8888888888888888,
              "#fdca26"
             ],
             [
              1,
              "#f0f921"
             ]
            ],
            "type": "heatmap"
           }
          ],
          "heatmapgl": [
           {
            "colorbar": {
             "outlinewidth": 0,
             "ticks": ""
            },
            "colorscale": [
             [
              0,
              "#0d0887"
             ],
             [
              0.1111111111111111,
              "#46039f"
             ],
             [
              0.2222222222222222,
              "#7201a8"
             ],
             [
              0.3333333333333333,
              "#9c179e"
             ],
             [
              0.4444444444444444,
              "#bd3786"
             ],
             [
              0.5555555555555556,
              "#d8576b"
             ],
             [
              0.6666666666666666,
              "#ed7953"
             ],
             [
              0.7777777777777778,
              "#fb9f3a"
             ],
             [
              0.8888888888888888,
              "#fdca26"
             ],
             [
              1,
              "#f0f921"
             ]
            ],
            "type": "heatmapgl"
           }
          ],
          "histogram": [
           {
            "marker": {
             "pattern": {
              "fillmode": "overlay",
              "size": 10,
              "solidity": 0.2
             }
            },
            "type": "histogram"
           }
          ],
          "histogram2d": [
           {
            "colorbar": {
             "outlinewidth": 0,
             "ticks": ""
            },
            "colorscale": [
             [
              0,
              "#0d0887"
             ],
             [
              0.1111111111111111,
              "#46039f"
             ],
             [
              0.2222222222222222,
              "#7201a8"
             ],
             [
              0.3333333333333333,
              "#9c179e"
             ],
             [
              0.4444444444444444,
              "#bd3786"
             ],
             [
              0.5555555555555556,
              "#d8576b"
             ],
             [
              0.6666666666666666,
              "#ed7953"
             ],
             [
              0.7777777777777778,
              "#fb9f3a"
             ],
             [
              0.8888888888888888,
              "#fdca26"
             ],
             [
              1,
              "#f0f921"
             ]
            ],
            "type": "histogram2d"
           }
          ],
          "histogram2dcontour": [
           {
            "colorbar": {
             "outlinewidth": 0,
             "ticks": ""
            },
            "colorscale": [
             [
              0,
              "#0d0887"
             ],
             [
              0.1111111111111111,
              "#46039f"
             ],
             [
              0.2222222222222222,
              "#7201a8"
             ],
             [
              0.3333333333333333,
              "#9c179e"
             ],
             [
              0.4444444444444444,
              "#bd3786"
             ],
             [
              0.5555555555555556,
              "#d8576b"
             ],
             [
              0.6666666666666666,
              "#ed7953"
             ],
             [
              0.7777777777777778,
              "#fb9f3a"
             ],
             [
              0.8888888888888888,
              "#fdca26"
             ],
             [
              1,
              "#f0f921"
             ]
            ],
            "type": "histogram2dcontour"
           }
          ],
          "mesh3d": [
           {
            "colorbar": {
             "outlinewidth": 0,
             "ticks": ""
            },
            "type": "mesh3d"
           }
          ],
          "parcoords": [
           {
            "line": {
             "colorbar": {
              "outlinewidth": 0,
              "ticks": ""
             }
            },
            "type": "parcoords"
           }
          ],
          "pie": [
           {
            "automargin": true,
            "type": "pie"
           }
          ],
          "scatter": [
           {
            "fillpattern": {
             "fillmode": "overlay",
             "size": 10,
             "solidity": 0.2
            },
            "type": "scatter"
           }
          ],
          "scatter3d": [
           {
            "line": {
             "colorbar": {
              "outlinewidth": 0,
              "ticks": ""
             }
            },
            "marker": {
             "colorbar": {
              "outlinewidth": 0,
              "ticks": ""
             }
            },
            "type": "scatter3d"
           }
          ],
          "scattercarpet": [
           {
            "marker": {
             "colorbar": {
              "outlinewidth": 0,
              "ticks": ""
             }
            },
            "type": "scattercarpet"
           }
          ],
          "scattergeo": [
           {
            "marker": {
             "colorbar": {
              "outlinewidth": 0,
              "ticks": ""
             }
            },
            "type": "scattergeo"
           }
          ],
          "scattergl": [
           {
            "marker": {
             "colorbar": {
              "outlinewidth": 0,
              "ticks": ""
             }
            },
            "type": "scattergl"
           }
          ],
          "scattermapbox": [
           {
            "marker": {
             "colorbar": {
              "outlinewidth": 0,
              "ticks": ""
             }
            },
            "type": "scattermapbox"
           }
          ],
          "scatterpolar": [
           {
            "marker": {
             "colorbar": {
              "outlinewidth": 0,
              "ticks": ""
             }
            },
            "type": "scatterpolar"
           }
          ],
          "scatterpolargl": [
           {
            "marker": {
             "colorbar": {
              "outlinewidth": 0,
              "ticks": ""
             }
            },
            "type": "scatterpolargl"
           }
          ],
          "scatterternary": [
           {
            "marker": {
             "colorbar": {
              "outlinewidth": 0,
              "ticks": ""
             }
            },
            "type": "scatterternary"
           }
          ],
          "surface": [
           {
            "colorbar": {
             "outlinewidth": 0,
             "ticks": ""
            },
            "colorscale": [
             [
              0,
              "#0d0887"
             ],
             [
              0.1111111111111111,
              "#46039f"
             ],
             [
              0.2222222222222222,
              "#7201a8"
             ],
             [
              0.3333333333333333,
              "#9c179e"
             ],
             [
              0.4444444444444444,
              "#bd3786"
             ],
             [
              0.5555555555555556,
              "#d8576b"
             ],
             [
              0.6666666666666666,
              "#ed7953"
             ],
             [
              0.7777777777777778,
              "#fb9f3a"
             ],
             [
              0.8888888888888888,
              "#fdca26"
             ],
             [
              1,
              "#f0f921"
             ]
            ],
            "type": "surface"
           }
          ],
          "table": [
           {
            "cells": {
             "fill": {
              "color": "#EBF0F8"
             },
             "line": {
              "color": "white"
             }
            },
            "header": {
             "fill": {
              "color": "#C8D4E3"
             },
             "line": {
              "color": "white"
             }
            },
            "type": "table"
           }
          ]
         },
         "layout": {
          "annotationdefaults": {
           "arrowcolor": "#2a3f5f",
           "arrowhead": 0,
           "arrowwidth": 1
          },
          "autotypenumbers": "strict",
          "coloraxis": {
           "colorbar": {
            "outlinewidth": 0,
            "ticks": ""
           }
          },
          "colorscale": {
           "diverging": [
            [
             0,
             "#8e0152"
            ],
            [
             0.1,
             "#c51b7d"
            ],
            [
             0.2,
             "#de77ae"
            ],
            [
             0.3,
             "#f1b6da"
            ],
            [
             0.4,
             "#fde0ef"
            ],
            [
             0.5,
             "#f7f7f7"
            ],
            [
             0.6,
             "#e6f5d0"
            ],
            [
             0.7,
             "#b8e186"
            ],
            [
             0.8,
             "#7fbc41"
            ],
            [
             0.9,
             "#4d9221"
            ],
            [
             1,
             "#276419"
            ]
           ],
           "sequential": [
            [
             0,
             "#0d0887"
            ],
            [
             0.1111111111111111,
             "#46039f"
            ],
            [
             0.2222222222222222,
             "#7201a8"
            ],
            [
             0.3333333333333333,
             "#9c179e"
            ],
            [
             0.4444444444444444,
             "#bd3786"
            ],
            [
             0.5555555555555556,
             "#d8576b"
            ],
            [
             0.6666666666666666,
             "#ed7953"
            ],
            [
             0.7777777777777778,
             "#fb9f3a"
            ],
            [
             0.8888888888888888,
             "#fdca26"
            ],
            [
             1,
             "#f0f921"
            ]
           ],
           "sequentialminus": [
            [
             0,
             "#0d0887"
            ],
            [
             0.1111111111111111,
             "#46039f"
            ],
            [
             0.2222222222222222,
             "#7201a8"
            ],
            [
             0.3333333333333333,
             "#9c179e"
            ],
            [
             0.4444444444444444,
             "#bd3786"
            ],
            [
             0.5555555555555556,
             "#d8576b"
            ],
            [
             0.6666666666666666,
             "#ed7953"
            ],
            [
             0.7777777777777778,
             "#fb9f3a"
            ],
            [
             0.8888888888888888,
             "#fdca26"
            ],
            [
             1,
             "#f0f921"
            ]
           ]
          },
          "colorway": [
           "#636efa",
           "#EF553B",
           "#00cc96",
           "#ab63fa",
           "#FFA15A",
           "#19d3f3",
           "#FF6692",
           "#B6E880",
           "#FF97FF",
           "#FECB52"
          ],
          "font": {
           "color": "#2a3f5f"
          },
          "geo": {
           "bgcolor": "white",
           "lakecolor": "white",
           "landcolor": "#E5ECF6",
           "showlakes": true,
           "showland": true,
           "subunitcolor": "white"
          },
          "hoverlabel": {
           "align": "left"
          },
          "hovermode": "closest",
          "mapbox": {
           "style": "light"
          },
          "paper_bgcolor": "white",
          "plot_bgcolor": "#E5ECF6",
          "polar": {
           "angularaxis": {
            "gridcolor": "white",
            "linecolor": "white",
            "ticks": ""
           },
           "bgcolor": "#E5ECF6",
           "radialaxis": {
            "gridcolor": "white",
            "linecolor": "white",
            "ticks": ""
           }
          },
          "scene": {
           "xaxis": {
            "backgroundcolor": "#E5ECF6",
            "gridcolor": "white",
            "gridwidth": 2,
            "linecolor": "white",
            "showbackground": true,
            "ticks": "",
            "zerolinecolor": "white"
           },
           "yaxis": {
            "backgroundcolor": "#E5ECF6",
            "gridcolor": "white",
            "gridwidth": 2,
            "linecolor": "white",
            "showbackground": true,
            "ticks": "",
            "zerolinecolor": "white"
           },
           "zaxis": {
            "backgroundcolor": "#E5ECF6",
            "gridcolor": "white",
            "gridwidth": 2,
            "linecolor": "white",
            "showbackground": true,
            "ticks": "",
            "zerolinecolor": "white"
           }
          },
          "shapedefaults": {
           "line": {
            "color": "#2a3f5f"
           }
          },
          "ternary": {
           "aaxis": {
            "gridcolor": "white",
            "linecolor": "white",
            "ticks": ""
           },
           "baxis": {
            "gridcolor": "white",
            "linecolor": "white",
            "ticks": ""
           },
           "bgcolor": "#E5ECF6",
           "caxis": {
            "gridcolor": "white",
            "linecolor": "white",
            "ticks": ""
           }
          },
          "title": {
           "x": 0.05
          },
          "xaxis": {
           "automargin": true,
           "gridcolor": "white",
           "linecolor": "white",
           "ticks": "",
           "title": {
            "standoff": 15
           },
           "zerolinecolor": "white",
           "zerolinewidth": 2
          },
          "yaxis": {
           "automargin": true,
           "gridcolor": "white",
           "linecolor": "white",
           "ticks": "",
           "title": {
            "standoff": 15
           },
           "zerolinecolor": "white",
           "zerolinewidth": 2
          }
         }
        }
       }
      }
     },
     "metadata": {},
     "output_type": "display_data"
    }
   ],
   "source": [
    "import plotly.express as px\n",
    "\n",
    "df = pd.DataFrame(data=w, index=stocks.columns)\n",
    "\n",
    "fig = px.pie(values=df[0], names=df.index, hole=0.4)\n",
    "fig.show()"
   ]
  },
  {
   "cell_type": "code",
   "execution_count": 394,
   "metadata": {},
   "outputs": [
    {
     "data": {
      "text/html": [
       "<div>\n",
       "<style scoped>\n",
       "    .dataframe tbody tr th:only-of-type {\n",
       "        vertical-align: middle;\n",
       "    }\n",
       "\n",
       "    .dataframe tbody tr th {\n",
       "        vertical-align: top;\n",
       "    }\n",
       "\n",
       "    .dataframe thead th {\n",
       "        text-align: right;\n",
       "    }\n",
       "</style>\n",
       "<table border=\"1\" class=\"dataframe\">\n",
       "  <thead>\n",
       "    <tr style=\"text-align: right;\">\n",
       "      <th></th>\n",
       "      <th>0</th>\n",
       "    </tr>\n",
       "  </thead>\n",
       "  <tbody>\n",
       "    <tr>\n",
       "      <th>ABT</th>\n",
       "      <td>5.803541</td>\n",
       "    </tr>\n",
       "    <tr>\n",
       "      <th>CNC</th>\n",
       "      <td>27.862604</td>\n",
       "    </tr>\n",
       "    <tr>\n",
       "      <th>ADSK</th>\n",
       "      <td>10.212697</td>\n",
       "    </tr>\n",
       "    <tr>\n",
       "      <th>BDX</th>\n",
       "      <td>2.978565</td>\n",
       "    </tr>\n",
       "    <tr>\n",
       "      <th>Gold</th>\n",
       "      <td>7.546244</td>\n",
       "    </tr>\n",
       "    <tr>\n",
       "      <th>CITAX</th>\n",
       "      <td>13.901237</td>\n",
       "    </tr>\n",
       "    <tr>\n",
       "      <th>MGK</th>\n",
       "      <td>24.977687</td>\n",
       "    </tr>\n",
       "    <tr>\n",
       "      <th>XLG</th>\n",
       "      <td>6.717426</td>\n",
       "    </tr>\n",
       "  </tbody>\n",
       "</table>\n",
       "</div>"
      ],
      "text/plain": [
       "               0\n",
       "ABT     5.803541\n",
       "CNC    27.862604\n",
       "ADSK   10.212697\n",
       "BDX     2.978565\n",
       "Gold    7.546244\n",
       "CITAX  13.901237\n",
       "MGK    24.977687\n",
       "XLG     6.717426"
      ]
     },
     "execution_count": 394,
     "metadata": {},
     "output_type": "execute_result"
    }
   ],
   "source": [
    "df"
   ]
  },
  {
   "cell_type": "markdown",
   "metadata": {},
   "source": [
    "## Prediction"
   ]
  },
  {
   "cell_type": "code",
   "execution_count": 395,
   "metadata": {},
   "outputs": [],
   "source": [
    "m = pmt # monthly reserve\n",
    "I = pv # initial investment"
   ]
  },
  {
   "cell_type": "code",
   "execution_count": 396,
   "metadata": {},
   "outputs": [],
   "source": [
    "# # risk tolerance  type (return, variance)\n",
    "# risk_dict = {}\n",
    "# for level in range(1,6):\n",
    "#     risk_dict[level] = (sample_p_return[lv_index[level]][0], sample_p_std[lv_index[level]][0][0])\n",
    "\n",
    "# risk_dict"
   ]
  },
  {
   "cell_type": "code",
   "execution_count": 442,
   "metadata": {},
   "outputs": [],
   "source": [
    "risk_dict = {\n",
    "    1: (0.09316084288014086, 0.12883607157348542),\n",
    "    2:(0.11569069844066265, 0.13819949233884793),\n",
    "    3:(0.13822055400118444, 0.1558336955224367),\n",
    "    4:(0.15577031326872078, 0.2131836872329948),\n",
    "    5:(0.1958233898207595, 0.29248631836508465)\n",
    "} # (return, variance)"
   ]
  },
  {
   "cell_type": "code",
   "execution_count": 458,
   "metadata": {},
   "outputs": [],
   "source": [
    "def fix_calc_return(r):\n",
    "  r_list = []\n",
    "  r1 = (I+12*m)*(1+r)\n",
    "  r_list.append(r1)\n",
    "\n",
    "  for _ in range(15): # find the return for the next 15 years\n",
    "    rt_1 = r_list[-1] # r(t+!)\n",
    "    rt = (rt_1+12*m)*(1+r)\n",
    "    r_list.append(rt)\n",
    "  return r_list"
   ]
  },
  {
   "cell_type": "code",
   "execution_count": 459,
   "metadata": {},
   "outputs": [],
   "source": [
    "ret, vol = risk_dict[level]\n",
    "ret, vol\n",
    "\n",
    "r_list = fix_calc_return(ret)\n",
    "\n",
    "no_risk_assets = []\n",
    "f = lambda x: (12*m)*x+I\n",
    "\n",
    "for i in range(1,20):\n",
    "  no_risk_assets.append(f(i))"
   ]
  },
  {
   "cell_type": "code",
   "execution_count": 467,
   "metadata": {},
   "outputs": [],
   "source": [
    "def calc_return():\n",
    "  r = np.random.normal(ret,vol) # this line is differenct from the above\n",
    "  r_list = []\n",
    "  r1 = (I+12*m)*(1+r)\n",
    "  r_list.append(r1)\n",
    "\n",
    "  for _ in range(15):\n",
    "    rt_1 = r_list[-1]\n",
    "    rt = (rt_1+12*m)*(1+r)\n",
    "    r_list.append(rt)\n",
    "  return r_list"
   ]
  },
  {
   "cell_type": "code",
   "execution_count": 477,
   "metadata": {},
   "outputs": [],
   "source": [
    "r_res = []\n",
    "for _ in range(100):\n",
    "  r_list = calc_return()\n",
    "  r_res.append(r_list)\n",
    "  \n",
    "no_risk_assets = []\n",
    "f = lambda x: (12*m)*x+I\n",
    "for i in range(1,17):\n",
    "  no_risk_assets.append(f(i))\n",
    "  \n",
    "# arranging the data for seaborn\n",
    "df = pd.DataFrame(r_res).melt(value_name=\"amount\", var_name=\"year\")"
   ]
  },
  {
   "cell_type": "code",
   "execution_count": 483,
   "metadata": {},
   "outputs": [
    {
     "data": {
      "image/png": "[encoded data removed]",
      "text/plain": [
       "<Figure size 1000x500 with 1 Axes>"
      ]
     },
     "metadata": {},
     "output_type": "display_data"
    }
   ],
   "source": [
    "plt.figure(figsize=(10,5))\n",
    "ax = plt.gca()\n",
    "\n",
    "sns.lineplot(data=df, x=\"year\", y=\"amount\", label='a', errorbar=('ci', 80), color='#409B56')\n",
    "sns.lineplot(no_risk_assets, color='#F5B633', label='b', linestyle='--')\n",
    "\n",
    "plt.grid(color='#eeeeee', axis='y', linestyle = '--')\n",
    "plt.tick_params(left = False)\n",
    "plt.ylabel('million USD')\n",
    "plt.xticks(ticks=[0,5,10,15])\n",
    "\n",
    "\n",
    "ax.spines['left'].set_color('#ffffff')\n",
    "ax.spines['top'].set_color('#ffffff')\n",
    "ax.spines['bottom'].set_color('#a8a8a8')\n",
    "ax.spines['right'].set_color('#ffffff')\n",
    "\n",
    "plt.legend(loc='center')\n",
    "\n",
    "\n",
    "plt.show()"
   ]
  },
  {
   "cell_type": "code",
   "execution_count": 484,
   "metadata": {},
   "outputs": [
    {
     "data": {
      "text/plain": [
       "0       5.438922e+04\n",
       "1       6.281358e+04\n",
       "2       6.838199e+04\n",
       "3       5.185554e+04\n",
       "4       5.656477e+04\n",
       "            ...     \n",
       "1595    8.882025e+05\n",
       "1596    8.880884e+05\n",
       "1597    2.920887e+06\n",
       "1598    3.557553e+05\n",
       "1599    1.108181e+06\n",
       "Name: amount, Length: 1600, dtype: float64"
      ]
     },
     "execution_count": 484,
     "metadata": {},
     "output_type": "execute_result"
    }
   ],
   "source": [
    "df['amount']"
   ]
  },
  {
   "cell_type": "code",
   "execution_count": 479,
   "metadata": {},
   "outputs": [
    {
     "data": {
      "text/plain": [
       "<Axes: >"
      ]
     },
     "execution_count": 479,
     "metadata": {},
     "output_type": "execute_result"
    },
    {
     "data": {
      "image/png": "[encoded data removed]",
      "text/plain": [
       "<Figure size 640x480 with 2 Axes>"
      ]
     },
     "metadata": {},
     "output_type": "display_data"
    }
   ],
   "source": [
    "sns.heatmap(log_return.corr(), cmap='RdYlGn', center=0.2)"
   ]
  }
 ],
 "metadata": {
  "kernelspec": {
   "display_name": "Python 3",
   "language": "python",
   "name": "python3"
  },
  "language_info": {
   "codemirror_mode": {
    "name": "ipython",
    "version": 3
   },
   "file_extension": ".py",
   "mimetype": "text/x-python",
   "name": "python",
   "nbconvert_exporter": "python",
   "pygments_lexer": "ipython3",
   "version": "3.11.4"
  }
 },
 "nbformat": 4,
 "nbformat_minor": 2
}
