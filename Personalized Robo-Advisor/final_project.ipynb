{
 "cells": [
  {
   "cell_type": "code",
   "execution_count": 1,
   "metadata": {},
   "outputs": [],
   "source": [
    "# to handle data\n",
    "import numpy as np\n",
    "import pandas as pd\n",
    "\n",
    "# financial data APIs\n",
    "import pandas_datareader.data as web\n",
    "import yfinance as yf\n",
    "import gspread as gs\n",
    "\n",
    "# to plot the graphs\n",
    "import matplotlib.pyplot as plt\n",
    "import seaborn as sns\n",
    "\n",
    "# to optimize\n",
    "import scipy.optimize as sco\n",
    "\n",
    "# to CML plot\n",
    "import scipy.interpolate as sci\n",
    "\n",
    "from datetime import datetime"
   ]
  },
  {
   "cell_type": "markdown",
   "metadata": {},
   "source": [
    "# Input\n",
    "\n",
    "## Import customer's choice\n",
    "### Connect to Figma & Google sheets"
   ]
  },
  {
   "cell_type": "code",
   "execution_count": null,
   "metadata": {},
   "outputs": [],
   "source": []
  },
  {
   "cell_type": "markdown",
   "metadata": {},
   "source": [
    "### Identify risk tolerance level\n",
    "Question 1,2,5,6 are used"
   ]
  },
  {
   "cell_type": "code",
   "execution_count": 2,
   "metadata": {},
   "outputs": [],
   "source": [
    "score_dict = [\n",
    "    # question 1\n",
    "    {'20s (including 18-19 years old)': 5,\n",
    "     '30s': 4,\n",
    "     '40s': 3,\n",
    "     '50s': 2,\n",
    "     'Over 60s': 1},\n",
    "    \n",
    "    # question 2\n",
    "    {'$12,000 - $24,000': 1,\n",
    "     '$24,000 - $48,000': 2,\n",
    "     '$48,000 - $84,000': 3,\n",
    "     'More than $84,000': 4},\n",
    "    \n",
    "    # question 5\n",
    "    {'Less than 10%': 1,\n",
    "     '10-20%': 2,\n",
    "     '20-30%': 3,\n",
    "     '30-40%': 4,\n",
    "     'More than 40%': 5},\n",
    "    \n",
    "    # question 6\n",
    "    {'I would be worried and consider moving to safer investments.': 1,\n",
    "     'I might consider making some adjustments to my portfolio.': 2,\n",
    "     \"I'd be patient and confident that my investments will rebound.\": 3,\n",
    "     \"I wouldn't be concerned; I understand that markets have ups and downs.\": 4}\n",
    "]"
   ]
  },
  {
   "cell_type": "code",
   "execution_count": 3,
   "metadata": {},
   "outputs": [
    {
     "ename": "AttributeError",
     "evalue": "'list' object has no attribute 'get'",
     "output_type": "error",
     "traceback": [
      "\u001b[1;31m---------------------------------------------------------------------------\u001b[0m",
      "\u001b[1;31mAttributeError\u001b[0m                            Traceback (most recent call last)",
      "Cell \u001b[1;32mIn[3], line 8\u001b[0m\n\u001b[0;32m      5\u001b[0m q6 \u001b[38;5;241m=\u001b[39m \u001b[38;5;241m1\u001b[39m\n\u001b[0;32m      7\u001b[0m \u001b[38;5;66;03m# get score\u001b[39;00m\n\u001b[1;32m----> 8\u001b[0m q1 \u001b[38;5;241m=\u001b[39m \u001b[43mscore_dict\u001b[49m\u001b[38;5;241;43m.\u001b[39;49m\u001b[43mget\u001b[49m(q1)\n\u001b[0;32m      9\u001b[0m q2 \u001b[38;5;241m=\u001b[39m score_dict\u001b[38;5;241m.\u001b[39mget(q2)\n\u001b[0;32m     10\u001b[0m q5 \u001b[38;5;241m=\u001b[39m score_dict\u001b[38;5;241m.\u001b[39mget(q5)\n",
      "\u001b[1;31mAttributeError\u001b[0m: 'list' object has no attribute 'get'"
     ]
    }
   ],
   "source": [
    "# collect customer's choices from Figma\n",
    "q1 = 1\n",
    "q2 = 1\n",
    "q5 = 1\n",
    "q6 = 1\n",
    "\n",
    "# get score\n",
    "q1 = score_dict.get(q1)\n",
    "q2 = score_dict.get(q2)\n",
    "q5 = score_dict.get(q5)\n",
    "q6 = score_dict.get(q6)"
   ]
  },
  {
   "cell_type": "code",
   "execution_count": null,
   "metadata": {},
   "outputs": [],
   "source": [
    "# calculate score of risk tolerance\n",
    "total_score = q1+q2+q5+q6\n",
    "\n",
    "# classify\n",
    "if total_score > 20:\n",
    "    level = 5\n",
    "elif total_score > 15:\n",
    "    level = 4\n",
    "elif total_score > 10:\n",
    "    level = 3\n",
    "elif total_score > 5:\n",
    "    level = 2\n",
    "else:\n",
    "    level = 1"
   ]
  },
  {
   "cell_type": "markdown",
   "metadata": {},
   "source": [
    "### Collect customer's choice of stocks"
   ]
  },
  {
   "cell_type": "code",
   "execution_count": null,
   "metadata": {},
   "outputs": [],
   "source": [
    "# get from Figma\n",
    "stock_list = 'TSLA, AMZN,AAPL'\n",
    "\n",
    "# convert to list and remove whitespace\n",
    "stock_list = [stock.strip() for stock in stock_list.split(',')]"
   ]
  },
  {
   "cell_type": "markdown",
   "metadata": {},
   "source": [
    "## Import historical data\n",
    "* What are the assets?\n",
    "    * Random 10 stock in S&P500 (chọn bừa để thử chạy các phần sau thôi)\n",
    "* What is the period?\n",
    "    * 2018-01-01 to today"
   ]
  },
  {
   "cell_type": "code",
   "execution_count": null,
   "metadata": {},
   "outputs": [
    {
     "name": "stdout",
     "output_type": "stream",
     "text": [
      "[*********************100%%**********************]  1 of 1 completed\n",
      "Downloaded data for MMM\n",
      "[*********************100%%**********************]  1 of 1 completed\n",
      "0.10471014097373178\n",
      "Downloaded data for AOS\n",
      "[*********************100%%**********************]  1 of 1 completed\n",
      "0.08456558886642712\n",
      "Downloaded data for ABT\n",
      "[*********************100%%**********************]  1 of 1 completed\n",
      "0.08701372543959232\n",
      "Downloaded data for ABBV\n",
      "[*********************100%%**********************]  1 of 1 completed\n",
      "0.14329472283176775\n",
      "Downloaded data for ACN\n",
      "[*********************100%%**********************]  1 of 1 completed\n",
      "Downloaded data for ADM\n",
      "[*********************100%%**********************]  1 of 1 completed\n",
      "0.23656276675101306\n",
      "Downloaded data for ADBE\n",
      "[*********************100%%**********************]  1 of 1 completed\n",
      "0.1110604136069105\n",
      "Downloaded data for ADP\n",
      "[*********************100%%**********************]  1 of 1 completed\n",
      "Downloaded data for AES\n",
      "[*********************100%%**********************]  1 of 1 completed\n",
      "0.11034645730441464\n",
      "Downloaded data for AFL\n",
      "[*********************100%%**********************]  1 of 1 completed\n",
      "0.1134503617016865\n",
      "Downloaded data for A\n"
     ]
    },
    {
     "ename": "KeyboardInterrupt",
     "evalue": "",
     "output_type": "error",
     "traceback": [
      "\u001b[1;31m---------------------------------------------------------------------------\u001b[0m",
      "\u001b[1;31mKeyboardInterrupt\u001b[0m                         Traceback (most recent call last)",
      "\u001b[1;32me:\\Nhung\\Data Analyst\\Robo-advisor\\Practice\\final_project.ipynb Cell 11\u001b[0m line \u001b[0;36m1\n\u001b[0;32m     <a href='vscode-notebook-cell:/e%3A/Nhung/Data%20Analyst/Robo-advisor/Practice/final_project.ipynb#X13sZmlsZQ%3D%3D?line=11'>12</a>\u001b[0m \u001b[39mfor\u001b[39;00m ticker \u001b[39min\u001b[39;00m sp500_tickers:\n\u001b[0;32m     <a href='vscode-notebook-cell:/e%3A/Nhung/Data%20Analyst/Robo-advisor/Practice/final_project.ipynb#X13sZmlsZQ%3D%3D?line=12'>13</a>\u001b[0m     \u001b[39mtry\u001b[39;00m:\n\u001b[0;32m     <a href='vscode-notebook-cell:/e%3A/Nhung/Data%20Analyst/Robo-advisor/Practice/final_project.ipynb#X13sZmlsZQ%3D%3D?line=13'>14</a>\u001b[0m         \u001b[39m# Download historical data for the current ticker\u001b[39;00m\n\u001b[1;32m---> <a href='vscode-notebook-cell:/e%3A/Nhung/Data%20Analyst/Robo-advisor/Practice/final_project.ipynb#X13sZmlsZQ%3D%3D?line=14'>15</a>\u001b[0m         data \u001b[39m=\u001b[39m yf\u001b[39m.\u001b[39;49mdownload(ticker, start\u001b[39m=\u001b[39;49mstart_date, end\u001b[39m=\u001b[39;49mend_date)\n\u001b[0;32m     <a href='vscode-notebook-cell:/e%3A/Nhung/Data%20Analyst/Robo-advisor/Practice/final_project.ipynb#X13sZmlsZQ%3D%3D?line=16'>17</a>\u001b[0m         \u001b[39m# Add the 'Close' prices to the stocks DataFrame - ONLY STOCK WITH HIGHER RETURN OF MORE THAN 3%\u001b[39;00m\n\u001b[0;32m     <a href='vscode-notebook-cell:/e%3A/Nhung/Data%20Analyst/Robo-advisor/Practice/final_project.ipynb#X13sZmlsZQ%3D%3D?line=17'>18</a>\u001b[0m         \u001b[39mif\u001b[39;00m np\u001b[39m.\u001b[39mlog(data[\u001b[39m'\u001b[39m\u001b[39mClose\u001b[39m\u001b[39m'\u001b[39m] \u001b[39m/\u001b[39m data[\u001b[39m'\u001b[39m\u001b[39mClose\u001b[39m\u001b[39m'\u001b[39m]\u001b[39m.\u001b[39mshift(\u001b[39m1\u001b[39m))\u001b[39m.\u001b[39mmean()\u001b[39m*\u001b[39m\u001b[39m252\u001b[39m \u001b[39m>\u001b[39m\u001b[39m=\u001b[39m \u001b[39m0.05\u001b[39m:\n",
      "File \u001b[1;32mc:\\Users\\ASUS FLIP 14\\AppData\\Local\\Programs\\Python\\Python311\\Lib\\site-packages\\yfinance\\utils.py:114\u001b[0m, in \u001b[0;36mlog_indent_decorator.<locals>.wrapper\u001b[1;34m(*args, **kwargs)\u001b[0m\n\u001b[0;32m    111\u001b[0m logger\u001b[39m.\u001b[39mdebug(\u001b[39mf\u001b[39m\u001b[39m'\u001b[39m\u001b[39mEntering \u001b[39m\u001b[39m{\u001b[39;00mfunc\u001b[39m.\u001b[39m\u001b[39m__name__\u001b[39m\u001b[39m}\u001b[39;00m\u001b[39m()\u001b[39m\u001b[39m'\u001b[39m)\n\u001b[0;32m    113\u001b[0m \u001b[39mwith\u001b[39;00m IndentationContext():\n\u001b[1;32m--> 114\u001b[0m     result \u001b[39m=\u001b[39m func(\u001b[39m*\u001b[39;49margs, \u001b[39m*\u001b[39;49m\u001b[39m*\u001b[39;49mkwargs)\n\u001b[0;32m    116\u001b[0m logger\u001b[39m.\u001b[39mdebug(\u001b[39mf\u001b[39m\u001b[39m'\u001b[39m\u001b[39mExiting \u001b[39m\u001b[39m{\u001b[39;00mfunc\u001b[39m.\u001b[39m\u001b[39m__name__\u001b[39m\u001b[39m}\u001b[39;00m\u001b[39m()\u001b[39m\u001b[39m'\u001b[39m)\n\u001b[0;32m    117\u001b[0m \u001b[39mreturn\u001b[39;00m result\n",
      "File \u001b[1;32mc:\\Users\\ASUS FLIP 14\\AppData\\Local\\Programs\\Python\\Python311\\Lib\\site-packages\\yfinance\\multi.py:159\u001b[0m, in \u001b[0;36mdownload\u001b[1;34m(tickers, start, end, actions, threads, ignore_tz, group_by, auto_adjust, back_adjust, repair, keepna, progress, period, show_errors, interval, prepost, proxy, rounding, timeout, session)\u001b[0m\n\u001b[0;32m    152\u001b[0m         _download_one_threaded(ticker, period\u001b[39m=\u001b[39mperiod, interval\u001b[39m=\u001b[39minterval,\n\u001b[0;32m    153\u001b[0m                                start\u001b[39m=\u001b[39mstart, end\u001b[39m=\u001b[39mend, prepost\u001b[39m=\u001b[39mprepost,\n\u001b[0;32m    154\u001b[0m                                actions\u001b[39m=\u001b[39mactions, auto_adjust\u001b[39m=\u001b[39mauto_adjust,\n\u001b[0;32m    155\u001b[0m                                back_adjust\u001b[39m=\u001b[39mback_adjust, repair\u001b[39m=\u001b[39mrepair, keepna\u001b[39m=\u001b[39mkeepna,\n\u001b[0;32m    156\u001b[0m                                progress\u001b[39m=\u001b[39m(progress \u001b[39mand\u001b[39;00m i \u001b[39m>\u001b[39m \u001b[39m0\u001b[39m), proxy\u001b[39m=\u001b[39mproxy,\n\u001b[0;32m    157\u001b[0m                                rounding\u001b[39m=\u001b[39mrounding, timeout\u001b[39m=\u001b[39mtimeout, session\u001b[39m=\u001b[39msession)\n\u001b[0;32m    158\u001b[0m     \u001b[39mwhile\u001b[39;00m \u001b[39mlen\u001b[39m(shared\u001b[39m.\u001b[39m_DFS) \u001b[39m<\u001b[39m \u001b[39mlen\u001b[39m(tickers):\n\u001b[1;32m--> 159\u001b[0m         _time\u001b[39m.\u001b[39msleep(\u001b[39m0.01\u001b[39m)\n\u001b[0;32m    160\u001b[0m \u001b[39m# download synchronously\u001b[39;00m\n\u001b[0;32m    161\u001b[0m \u001b[39melse\u001b[39;00m:\n\u001b[0;32m    162\u001b[0m     \u001b[39mfor\u001b[39;00m i, ticker \u001b[39min\u001b[39;00m \u001b[39menumerate\u001b[39m(tickers):\n",
      "\u001b[1;31mKeyboardInterrupt\u001b[0m: "
     ]
    }
   ],
   "source": [
    "# Get the list of S&P 500 tickers\n",
    "sp500_tickers = pd.read_html('https://en.wikipedia.org/wiki/List_of_S%26P_500_companies')[0]\n",
    "sp500_tickers = sp500_tickers['Symbol'].tolist()\n",
    "\n",
    "# Define the start and end dates for historical data\n",
    "start_date = '2015-01-01'\n",
    "end_date = datetime.today().strftime('%Y-%m-%d')\n",
    "\n",
    "# Loop through each ticker and collect historical data\n",
    "stocks = pd.DataFrame()\n",
    "\n",
    "for ticker in sp500_tickers:\n",
    "    try:\n",
    "        # Download historical data for the current ticker\n",
    "        data = yf.download(ticker, start=start_date, end=end_date)\n",
    "        \n",
    "        # Add the 'Close' prices to the stocks DataFrame - ONLY STOCK WITH HIGHER RETURN OF MORE THAN 3%\n",
    "        if np.log(data['Close'] / data['Close'].shift(1)).mean()*252 >= 0.05:\n",
    "            print(np.log(data['Close'] / data['Close'].shift(1)).mean()*252)\n",
    "            stocks[ticker] = data['Close']\n",
    "        \n",
    "        print(f\"Downloaded data for {ticker}\")\n",
    "    except Exception as e:\n",
    "        print(f\"Error downloading data for {ticker}: {str(e)}\")\n",
    "        \n",
    "\n",
    "noa = len(stocks.columns)\n"
   ]
  },
  {
   "cell_type": "markdown",
   "metadata": {},
   "source": [
    "# Data preprocessing\n",
    "* Detect and remove missing values\n",
    "* Outliers should not be considered here, because the data is a time-series"
   ]
  },
  {
   "cell_type": "code",
   "execution_count": null,
   "metadata": {},
   "outputs": [
    {
     "data": {
      "text/html": [
       "<div>\n",
       "<style scoped>\n",
       "    .dataframe tbody tr th:only-of-type {\n",
       "        vertical-align: middle;\n",
       "    }\n",
       "\n",
       "    .dataframe tbody tr th {\n",
       "        vertical-align: top;\n",
       "    }\n",
       "\n",
       "    .dataframe thead th {\n",
       "        text-align: right;\n",
       "    }\n",
       "</style>\n",
       "<table border=\"1\" class=\"dataframe\">\n",
       "  <thead>\n",
       "    <tr style=\"text-align: right;\">\n",
       "      <th></th>\n",
       "      <th>AOS</th>\n",
       "      <th>ABT</th>\n",
       "      <th>ABBV</th>\n",
       "      <th>ACN</th>\n",
       "      <th>ADBE</th>\n",
       "      <th>ADP</th>\n",
       "      <th>AFL</th>\n",
       "      <th>A</th>\n",
       "    </tr>\n",
       "  </thead>\n",
       "  <tbody>\n",
       "    <tr>\n",
       "      <th>count</th>\n",
       "      <td>2228.000000</td>\n",
       "      <td>2228.000000</td>\n",
       "      <td>2228.000000</td>\n",
       "      <td>2228.000000</td>\n",
       "      <td>2228.000000</td>\n",
       "      <td>2228.000000</td>\n",
       "      <td>2228.000000</td>\n",
       "      <td>2228.000000</td>\n",
       "    </tr>\n",
       "    <tr>\n",
       "      <th>mean</th>\n",
       "      <td>53.638842</td>\n",
       "      <td>78.911683</td>\n",
       "      <td>96.269214</td>\n",
       "      <td>198.170009</td>\n",
       "      <td>292.207128</td>\n",
       "      <td>152.216050</td>\n",
       "      <td>46.933817</td>\n",
       "      <td>86.302724</td>\n",
       "    </tr>\n",
       "    <tr>\n",
       "      <th>std</th>\n",
       "      <td>12.366540</td>\n",
       "      <td>29.670182</td>\n",
       "      <td>32.188755</td>\n",
       "      <td>81.766556</td>\n",
       "      <td>167.285148</td>\n",
       "      <td>54.157598</td>\n",
       "      <td>12.789365</td>\n",
       "      <td>38.643246</td>\n",
       "    </tr>\n",
       "    <tr>\n",
       "      <th>min</th>\n",
       "      <td>27.115000</td>\n",
       "      <td>36.340000</td>\n",
       "      <td>48.270000</td>\n",
       "      <td>84.029999</td>\n",
       "      <td>69.989998</td>\n",
       "      <td>73.519997</td>\n",
       "      <td>25.270000</td>\n",
       "      <td>33.369999</td>\n",
       "    </tr>\n",
       "    <tr>\n",
       "      <th>25%</th>\n",
       "      <td>45.237501</td>\n",
       "      <td>48.437499</td>\n",
       "      <td>66.692497</td>\n",
       "      <td>121.100000</td>\n",
       "      <td>126.284998</td>\n",
       "      <td>101.930000</td>\n",
       "      <td>36.020000</td>\n",
       "      <td>52.697499</td>\n",
       "    </tr>\n",
       "    <tr>\n",
       "      <th>50%</th>\n",
       "      <td>53.535000</td>\n",
       "      <td>78.940002</td>\n",
       "      <td>90.290001</td>\n",
       "      <td>177.400002</td>\n",
       "      <td>275.544998</td>\n",
       "      <td>146.365005</td>\n",
       "      <td>45.135000</td>\n",
       "      <td>73.570000</td>\n",
       "    </tr>\n",
       "    <tr>\n",
       "      <th>75%</th>\n",
       "      <td>63.300001</td>\n",
       "      <td>106.975000</td>\n",
       "      <td>116.052502</td>\n",
       "      <td>275.475006</td>\n",
       "      <td>433.422508</td>\n",
       "      <td>203.145000</td>\n",
       "      <td>55.352499</td>\n",
       "      <td>122.332499</td>\n",
       "    </tr>\n",
       "    <tr>\n",
       "      <th>max</th>\n",
       "      <td>85.849998</td>\n",
       "      <td>141.460007</td>\n",
       "      <td>174.960007</td>\n",
       "      <td>415.420013</td>\n",
       "      <td>688.369995</td>\n",
       "      <td>269.899994</td>\n",
       "      <td>82.230003</td>\n",
       "      <td>179.279999</td>\n",
       "    </tr>\n",
       "  </tbody>\n",
       "</table>\n",
       "</div>"
      ],
      "text/plain": [
       "               AOS          ABT         ABBV          ACN         ADBE  \\\n",
       "count  2228.000000  2228.000000  2228.000000  2228.000000  2228.000000   \n",
       "mean     53.638842    78.911683    96.269214   198.170009   292.207128   \n",
       "std      12.366540    29.670182    32.188755    81.766556   167.285148   \n",
       "min      27.115000    36.340000    48.270000    84.029999    69.989998   \n",
       "25%      45.237501    48.437499    66.692497   121.100000   126.284998   \n",
       "50%      53.535000    78.940002    90.290001   177.400002   275.544998   \n",
       "75%      63.300001   106.975000   116.052502   275.475006   433.422508   \n",
       "max      85.849998   141.460007   174.960007   415.420013   688.369995   \n",
       "\n",
       "               ADP          AFL            A  \n",
       "count  2228.000000  2228.000000  2228.000000  \n",
       "mean    152.216050    46.933817    86.302724  \n",
       "std      54.157598    12.789365    38.643246  \n",
       "min      73.519997    25.270000    33.369999  \n",
       "25%     101.930000    36.020000    52.697499  \n",
       "50%     146.365005    45.135000    73.570000  \n",
       "75%     203.145000    55.352499   122.332499  \n",
       "max     269.899994    82.230003   179.279999  "
      ]
     },
     "execution_count": 8,
     "metadata": {},
     "output_type": "execute_result"
    }
   ],
   "source": [
    "stocks.describe()"
   ]
  },
  {
   "cell_type": "code",
   "execution_count": null,
   "metadata": {},
   "outputs": [
    {
     "data": {
      "text/plain": [
       "TSLA    0\n",
       "AMZN    0\n",
       "AAPL    0\n",
       "dtype: int64"
      ]
     },
     "execution_count": 30,
     "metadata": {},
     "output_type": "execute_result"
    }
   ],
   "source": [
    "# detect missing values\n",
    "stocks.isna().sum()"
   ]
  },
  {
   "cell_type": "markdown",
   "metadata": {},
   "source": [
    "There is no missing values -> Next step\n",
    "\n",
    "# Recommended portfolio\n",
    "## Bootstrap\n",
    "2000 samples of weights"
   ]
  },
  {
   "cell_type": "code",
   "execution_count": null,
   "metadata": {},
   "outputs": [],
   "source": [
    "# calculate return of each asset\n",
    "log_return = np.log(stocks / stocks.shift(1))\n",
    "\n",
    "# define function of portolio return\n",
    "def p_return(weights):\n",
    "  return np.sum(log_return.mean()*weights)*252\n",
    "\n",
    "# define function of portolio risk\n",
    "def p_std(weights):\n",
    "  return np.sqrt(np.dot(weights.T, np.dot(log_return.cov()*252, weights)))"
   ]
  },
  {
   "cell_type": "code",
   "execution_count": null,
   "metadata": {},
   "outputs": [
    {
     "data": {
      "text/plain": [
       "TSLA    0.001591\n",
       "AMZN    0.000595\n",
       "AAPL    0.000978\n",
       "dtype: float64"
      ]
     },
     "execution_count": 40,
     "metadata": {},
     "output_type": "execute_result"
    }
   ],
   "source": [
    "log_return.mean()"
   ]
  },
  {
   "cell_type": "code",
   "execution_count": null,
   "metadata": {},
   "outputs": [],
   "source": [
    "p_return_2000 = []\n",
    "p_std_2000 = []\n",
    "rand_weight = []\n",
    "\n",
    "for _ in range(2000): \n",
    "  # create a sample of weights (2000)\n",
    "  weights = np.random.random(noa)\n",
    "  weights /= np.sum(weights)\n",
    "  \n",
    "  # calculate portfolio return and risk\n",
    "  p_return_2000.append(p_return(weights))\n",
    "  p_std_2000.append(p_std(weights))\n",
    "  rand_weight.append(weights)\n",
    "\n",
    "# convert from list to array\n",
    "p_return_2000 = np.array(p_return_2000)\n",
    "p_std_2000 = np.array(p_std_2000)"
   ]
  },
  {
   "cell_type": "markdown",
   "metadata": {},
   "source": [
    "## Efficient Frontier\n",
    "The idea is that EF is formed by portfolios with minimum risk (min var) for each return. \n",
    "\n",
    "To be clearer, each return has many many portfolios whose weights can generate that return - these are basically on the horizontal line for each return. And of course, the \"efficient: portfolio is the portfolio whose minimum variance among those portfolios\n",
    "\n",
    "`scipy.opmize,minimize` is used to find those efficient portfolios\n",
    "* Method: Sequential Least Quadratic Programming\n",
    "* Constraint: \n",
    "    * $\\Sigma weight = 1$\n",
    "    * $R_p = R_{target} $\n",
    "* Boundary of each asset: $weight_i \\in [0,1]$\n",
    "* Minimize variance\n",
    "\n",
    "### Set constraints"
   ]
  },
  {
   "cell_type": "code",
   "execution_count": null,
   "metadata": {},
   "outputs": [],
   "source": [
    "# constraints\n",
    "## the meaning of the first line is: Rp-Rtarget = 0 (type:eq means \"=0\"). Similar to the second line\n",
    "constraints = ({\"type\":\"eq\", \"fun\": lambda x: p_return(x)-target},\n",
    "               {\"type\":\"eq\", \"fun\": lambda x: np.sum(x)-1})\n",
    "\n",
    "# set boundary\n",
    "boundaries = tuple((0,1) for _ in range(noa))"
   ]
  },
  {
   "cell_type": "markdown",
   "metadata": {},
   "source": [
    "### Find a collection of \"efficient\" portfolios"
   ]
  },
  {
   "cell_type": "code",
   "execution_count": null,
   "metadata": {},
   "outputs": [],
   "source": [
    "target_return = np.linspace(min(p_return_2000),max(p_return_2000),100) # there are 100 return targets\n",
    "target_std = []\n",
    "pweights = []\n",
    "x0 = np.array(noa*[1./noa])\n",
    "\n",
    "# find efficient portfolio for each of target return\n",
    "## x0 assigned as follow means the first weight data entry is every asset has the same weight\n",
    "for target in target_return:\n",
    "  res = sco.minimize(p_std, x0=x0, method=\"SLSQP\", constraints=constraints, bounds=boundaries)\n",
    "  target_std.append(res[\"fun\"])\n",
    "  pweights.append(res[\"x\"])\n",
    "\n",
    "target_std = np.array(target_std)"
   ]
  },
  {
   "cell_type": "markdown",
   "metadata": {},
   "source": [
    "## Optimal Risky portfolio by Risk Tolerance Level\n",
    "The idea here is that pick 5 portfolios from 100 \"efficient\" portfolios above *(see p2)*:\n",
    "* **Level 1 - Risk averse**: minimum risk portfolio *(not necessarily be MVP - because MVP is generated by `scipy.optimize.minimize`, while 2000 samples are generated randomly)*\n",
    "* **Level 2**: median of level 1 and 3\n",
    "* **Level 3 - Risk neutral**: maximum $\\frac{R_p}{\\sigma_p}$ *(in other words, best trade-off)*\n",
    "* **Level 4**: median of level 3 and 5\n",
    "* **Level 5 - Risk lover**: maximum return"
   ]
  },
  {
   "cell_type": "code",
   "execution_count": null,
   "metadata": {},
   "outputs": [],
   "source": [
    "# find the position of each level in 100 \"efficient\" portfolios\n",
    "lv1_index = np.argmin(target_std)\n",
    "lv3_index = np.argmax(target_return/target_std)\n",
    "lv5_index = np.argmax(target_return)\n",
    "lv2_index = int((lv1_index+lv3_index)/2)\n",
    "lv4_index = int((lv3_index+lv5_index)/2)\n",
    "lv_index = {k:v for k,v in zip(range(1,6),[lv1_index, lv2_index, lv3_index, lv4_index, lv5_index])} # summary\n"
   ]
  },
  {
   "cell_type": "code",
   "execution_count": null,
   "metadata": {},
   "outputs": [],
   "source": [
    "# define a function to return return, risk, weight for each level\n",
    "def optimal_portfolio(level, stock_df):\n",
    "    # find the weight\n",
    "    optimal_weight = pweights[lv_index[level]]\n",
    "    \n",
    "    # print out weight for each stock\n",
    "    for stock,weight in zip(stock_df.columns, optimal_weight):\n",
    "        print(stock,':',round(weight*100, 3),'%')\n",
    "    \n",
    "    # print out risk and return of the portfolio\n",
    "    print(f'Portfolio return (lv{level}): {round(p_return(optimal_weight)*100,3)}%')\n",
    "    print(f'Portfolio std (lv{level}): {round(p_std(optimal_weight),3)}')\n",
    "    \n",
    "    return optimal_weight"
   ]
  },
  {
   "cell_type": "code",
   "execution_count": null,
   "metadata": {},
   "outputs": [
    {
     "name": "stdout",
     "output_type": "stream",
     "text": [
      "TSLA : 0.0 %\n",
      "AMZN : 36.824 %\n",
      "AAPL : 63.176 %\n",
      "Portfolio return (lv1): 21.098%\n",
      "Portfolio std (lv1): 0.302\n"
     ]
    }
   ],
   "source": [
    "w = optimal_portfolio(level,stocks)"
   ]
  },
  {
   "cell_type": "code",
   "execution_count": null,
   "metadata": {},
   "outputs": [
    {
     "data": {
      "text/plain": [
       "array([2.77555756e-17, 3.68242816e-01, 6.31757184e-01])"
      ]
     },
     "execution_count": 38,
     "metadata": {},
     "output_type": "execute_result"
    }
   ],
   "source": [
    "w"
   ]
  },
  {
   "cell_type": "code",
   "execution_count": null,
   "metadata": {},
   "outputs": [],
   "source": [
    "import plotly.express as px"
   ]
  }
 ],
 "metadata": {
  "kernelspec": {
   "display_name": "Python 3",
   "language": "python",
   "name": "python3"
  },
  "language_info": {
   "codemirror_mode": {
    "name": "ipython",
    "version": 3
   },
   "file_extension": ".py",
   "mimetype": "text/x-python",
   "name": "python",
   "nbconvert_exporter": "python",
   "pygments_lexer": "ipython3",
   "version": "3.11.4"
  }
 },
 "nbformat": 4,
 "nbformat_minor": 2
}
