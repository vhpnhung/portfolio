{
 "cells": [
  {
   "cell_type": "code",
   "execution_count": 1,
   "metadata": {},
   "outputs": [],
   "source": [
    "# Data Manipulation\n",
    "import pandas as pd\n",
    "import numpy as np\n",
    "\n",
    "# Visualization\n",
    "import matplotlib.pyplot as plt\n",
    "import seaborn as sns\n",
    "\n",
    "# Preprocessing\n",
    "from sklearn.preprocessing import StandardScaler, LabelEncoder\n",
    "\n",
    "# Model Selection\n",
    "from sklearn.model_selection import train_test_split, GridSearchCV, RandomizedSearchCV, cross_val_score\n",
    "\n",
    "# Machine Learning Models\n",
    "from lightgbm import LGBMClassifier\n",
    "from xgboost import XGBClassifier\n",
    "from sklearn.ensemble import RandomForestClassifier, VotingClassifier\n",
    "from sklearn.svm import SVC\n",
    "\n",
    "# Model Evaluation\n",
    "from sklearn.metrics import accuracy_score, classification_report\n",
    "\n",
    "# Class Weight Computation\n",
    "from sklearn.utils.class_weight import compute_class_weight\n",
    "\n",
    "# Oversampling Techniques\n",
    "from imblearn.over_sampling import SMOTE, ADASYN, RandomOverSampler, SMOTENC\n"
   ]
  },
  {
   "cell_type": "markdown",
   "metadata": {},
   "source": [
    "# Import data"
   ]
  },
  {
   "cell_type": "code",
   "execution_count": 2,
   "metadata": {},
   "outputs": [
    {
     "data": {
      "text/html": [
       "<div>\n",
       "<style scoped>\n",
       "    .dataframe tbody tr th:only-of-type {\n",
       "        vertical-align: middle;\n",
       "    }\n",
       "\n",
       "    .dataframe tbody tr th {\n",
       "        vertical-align: top;\n",
       "    }\n",
       "\n",
       "    .dataframe thead th {\n",
       "        text-align: right;\n",
       "    }\n",
       "</style>\n",
       "<table border=\"1\" class=\"dataframe\">\n",
       "  <thead>\n",
       "    <tr style=\"text-align: right;\">\n",
       "      <th></th>\n",
       "      <th>ID</th>\n",
       "      <th>CODE_GENDER</th>\n",
       "      <th>FLAG_OWN_CAR</th>\n",
       "      <th>FLAG_OWN_REALTY</th>\n",
       "      <th>CNT_CHILDREN</th>\n",
       "      <th>AMT_INCOME_TOTAL</th>\n",
       "      <th>NAME_INCOME_TYPE</th>\n",
       "      <th>NAME_EDUCATION_TYPE</th>\n",
       "      <th>NAME_FAMILY_STATUS</th>\n",
       "      <th>NAME_HOUSING_TYPE</th>\n",
       "      <th>DAYS_BIRTH</th>\n",
       "      <th>DAYS_EMPLOYED</th>\n",
       "      <th>FLAG_MOBIL</th>\n",
       "      <th>FLAG_WORK_PHONE</th>\n",
       "      <th>FLAG_PHONE</th>\n",
       "      <th>FLAG_EMAIL</th>\n",
       "      <th>OCCUPATION_TYPE</th>\n",
       "      <th>CNT_FAM_MEMBERS</th>\n",
       "    </tr>\n",
       "  </thead>\n",
       "  <tbody>\n",
       "    <tr>\n",
       "      <th>0</th>\n",
       "      <td>5008804</td>\n",
       "      <td>M</td>\n",
       "      <td>Y</td>\n",
       "      <td>Y</td>\n",
       "      <td>0</td>\n",
       "      <td>427500.0</td>\n",
       "      <td>Working</td>\n",
       "      <td>Higher education</td>\n",
       "      <td>Civil marriage</td>\n",
       "      <td>Rented apartment</td>\n",
       "      <td>-12005</td>\n",
       "      <td>-4542</td>\n",
       "      <td>1</td>\n",
       "      <td>1</td>\n",
       "      <td>0</td>\n",
       "      <td>0</td>\n",
       "      <td>NaN</td>\n",
       "      <td>2.0</td>\n",
       "    </tr>\n",
       "    <tr>\n",
       "      <th>1</th>\n",
       "      <td>5008805</td>\n",
       "      <td>M</td>\n",
       "      <td>Y</td>\n",
       "      <td>Y</td>\n",
       "      <td>0</td>\n",
       "      <td>427500.0</td>\n",
       "      <td>Working</td>\n",
       "      <td>Higher education</td>\n",
       "      <td>Civil marriage</td>\n",
       "      <td>Rented apartment</td>\n",
       "      <td>-12005</td>\n",
       "      <td>-4542</td>\n",
       "      <td>1</td>\n",
       "      <td>1</td>\n",
       "      <td>0</td>\n",
       "      <td>0</td>\n",
       "      <td>NaN</td>\n",
       "      <td>2.0</td>\n",
       "    </tr>\n",
       "    <tr>\n",
       "      <th>2</th>\n",
       "      <td>5008806</td>\n",
       "      <td>M</td>\n",
       "      <td>Y</td>\n",
       "      <td>Y</td>\n",
       "      <td>0</td>\n",
       "      <td>112500.0</td>\n",
       "      <td>Working</td>\n",
       "      <td>Secondary / secondary special</td>\n",
       "      <td>Married</td>\n",
       "      <td>House / apartment</td>\n",
       "      <td>-21474</td>\n",
       "      <td>-1134</td>\n",
       "      <td>1</td>\n",
       "      <td>0</td>\n",
       "      <td>0</td>\n",
       "      <td>0</td>\n",
       "      <td>Security staff</td>\n",
       "      <td>2.0</td>\n",
       "    </tr>\n",
       "    <tr>\n",
       "      <th>3</th>\n",
       "      <td>5008808</td>\n",
       "      <td>F</td>\n",
       "      <td>N</td>\n",
       "      <td>Y</td>\n",
       "      <td>0</td>\n",
       "      <td>270000.0</td>\n",
       "      <td>Commercial associate</td>\n",
       "      <td>Secondary / secondary special</td>\n",
       "      <td>Single / not married</td>\n",
       "      <td>House / apartment</td>\n",
       "      <td>-19110</td>\n",
       "      <td>-3051</td>\n",
       "      <td>1</td>\n",
       "      <td>0</td>\n",
       "      <td>1</td>\n",
       "      <td>1</td>\n",
       "      <td>Sales staff</td>\n",
       "      <td>1.0</td>\n",
       "    </tr>\n",
       "    <tr>\n",
       "      <th>4</th>\n",
       "      <td>5008809</td>\n",
       "      <td>F</td>\n",
       "      <td>N</td>\n",
       "      <td>Y</td>\n",
       "      <td>0</td>\n",
       "      <td>270000.0</td>\n",
       "      <td>Commercial associate</td>\n",
       "      <td>Secondary / secondary special</td>\n",
       "      <td>Single / not married</td>\n",
       "      <td>House / apartment</td>\n",
       "      <td>-19110</td>\n",
       "      <td>-3051</td>\n",
       "      <td>1</td>\n",
       "      <td>0</td>\n",
       "      <td>1</td>\n",
       "      <td>1</td>\n",
       "      <td>Sales staff</td>\n",
       "      <td>1.0</td>\n",
       "    </tr>\n",
       "  </tbody>\n",
       "</table>\n",
       "</div>"
      ],
      "text/plain": [
       "        ID CODE_GENDER FLAG_OWN_CAR FLAG_OWN_REALTY  CNT_CHILDREN  \\\n",
       "0  5008804           M            Y               Y             0   \n",
       "1  5008805           M            Y               Y             0   \n",
       "2  5008806           M            Y               Y             0   \n",
       "3  5008808           F            N               Y             0   \n",
       "4  5008809           F            N               Y             0   \n",
       "\n",
       "   AMT_INCOME_TOTAL      NAME_INCOME_TYPE            NAME_EDUCATION_TYPE  \\\n",
       "0          427500.0               Working               Higher education   \n",
       "1          427500.0               Working               Higher education   \n",
       "2          112500.0               Working  Secondary / secondary special   \n",
       "3          270000.0  Commercial associate  Secondary / secondary special   \n",
       "4          270000.0  Commercial associate  Secondary / secondary special   \n",
       "\n",
       "     NAME_FAMILY_STATUS  NAME_HOUSING_TYPE  DAYS_BIRTH  DAYS_EMPLOYED  \\\n",
       "0        Civil marriage   Rented apartment      -12005          -4542   \n",
       "1        Civil marriage   Rented apartment      -12005          -4542   \n",
       "2               Married  House / apartment      -21474          -1134   \n",
       "3  Single / not married  House / apartment      -19110          -3051   \n",
       "4  Single / not married  House / apartment      -19110          -3051   \n",
       "\n",
       "   FLAG_MOBIL  FLAG_WORK_PHONE  FLAG_PHONE  FLAG_EMAIL OCCUPATION_TYPE  \\\n",
       "0           1                1           0           0             NaN   \n",
       "1           1                1           0           0             NaN   \n",
       "2           1                0           0           0  Security staff   \n",
       "3           1                0           1           1     Sales staff   \n",
       "4           1                0           1           1     Sales staff   \n",
       "\n",
       "   CNT_FAM_MEMBERS  \n",
       "0              2.0  \n",
       "1              2.0  \n",
       "2              2.0  \n",
       "3              1.0  \n",
       "4              1.0  "
      ]
     },
     "execution_count": 2,
     "metadata": {},
     "output_type": "execute_result"
    }
   ],
   "source": [
    "df_application = pd.read_csv('application_record.csv', encoding='utf8')\n",
    "df_application.head()"
   ]
  },
  {
   "cell_type": "code",
   "execution_count": 3,
   "metadata": {},
   "outputs": [
    {
     "data": {
      "text/html": [
       "<div>\n",
       "<style scoped>\n",
       "    .dataframe tbody tr th:only-of-type {\n",
       "        vertical-align: middle;\n",
       "    }\n",
       "\n",
       "    .dataframe tbody tr th {\n",
       "        vertical-align: top;\n",
       "    }\n",
       "\n",
       "    .dataframe thead th {\n",
       "        text-align: right;\n",
       "    }\n",
       "</style>\n",
       "<table border=\"1\" class=\"dataframe\">\n",
       "  <thead>\n",
       "    <tr style=\"text-align: right;\">\n",
       "      <th></th>\n",
       "      <th>ID</th>\n",
       "      <th>MONTHS_BALANCE</th>\n",
       "      <th>STATUS</th>\n",
       "    </tr>\n",
       "  </thead>\n",
       "  <tbody>\n",
       "    <tr>\n",
       "      <th>0</th>\n",
       "      <td>5001711</td>\n",
       "      <td>0</td>\n",
       "      <td>X</td>\n",
       "    </tr>\n",
       "    <tr>\n",
       "      <th>1</th>\n",
       "      <td>5001711</td>\n",
       "      <td>-1</td>\n",
       "      <td>0</td>\n",
       "    </tr>\n",
       "    <tr>\n",
       "      <th>2</th>\n",
       "      <td>5001711</td>\n",
       "      <td>-2</td>\n",
       "      <td>0</td>\n",
       "    </tr>\n",
       "    <tr>\n",
       "      <th>3</th>\n",
       "      <td>5001711</td>\n",
       "      <td>-3</td>\n",
       "      <td>0</td>\n",
       "    </tr>\n",
       "    <tr>\n",
       "      <th>4</th>\n",
       "      <td>5001712</td>\n",
       "      <td>0</td>\n",
       "      <td>C</td>\n",
       "    </tr>\n",
       "  </tbody>\n",
       "</table>\n",
       "</div>"
      ],
      "text/plain": [
       "        ID  MONTHS_BALANCE STATUS\n",
       "0  5001711               0      X\n",
       "1  5001711              -1      0\n",
       "2  5001711              -2      0\n",
       "3  5001711              -3      0\n",
       "4  5001712               0      C"
      ]
     },
     "execution_count": 3,
     "metadata": {},
     "output_type": "execute_result"
    }
   ],
   "source": [
    "df_credit = pd.read_csv('credit_record.csv', encoding='utf8')\n",
    "df_credit.head()"
   ]
  },
  {
   "cell_type": "markdown",
   "metadata": {},
   "source": [
    "# EDA\n",
    "## Exploring\n",
    "First, the metabase is investigated."
   ]
  },
  {
   "cell_type": "code",
   "execution_count": 4,
   "metadata": {},
   "outputs": [
    {
     "name": "stdout",
     "output_type": "stream",
     "text": [
      "<class 'pandas.core.frame.DataFrame'>\n",
      "RangeIndex: 438557 entries, 0 to 438556\n",
      "Data columns (total 18 columns):\n",
      " #   Column               Non-Null Count   Dtype  \n",
      "---  ------               --------------   -----  \n",
      " 0   ID                   438557 non-null  int64  \n",
      " 1   CODE_GENDER          438557 non-null  object \n",
      " 2   FLAG_OWN_CAR         438557 non-null  object \n",
      " 3   FLAG_OWN_REALTY      438557 non-null  object \n",
      " 4   CNT_CHILDREN         438557 non-null  int64  \n",
      " 5   AMT_INCOME_TOTAL     438557 non-null  float64\n",
      " 6   NAME_INCOME_TYPE     438557 non-null  object \n",
      " 7   NAME_EDUCATION_TYPE  438557 non-null  object \n",
      " 8   NAME_FAMILY_STATUS   438557 non-null  object \n",
      " 9   NAME_HOUSING_TYPE    438557 non-null  object \n",
      " 10  DAYS_BIRTH           438557 non-null  int64  \n",
      " 11  DAYS_EMPLOYED        438557 non-null  int64  \n",
      " 12  FLAG_MOBIL           438557 non-null  int64  \n",
      " 13  FLAG_WORK_PHONE      438557 non-null  int64  \n",
      " 14  FLAG_PHONE           438557 non-null  int64  \n",
      " 15  FLAG_EMAIL           438557 non-null  int64  \n",
      " 16  OCCUPATION_TYPE      304354 non-null  object \n",
      " 17  CNT_FAM_MEMBERS      438557 non-null  float64\n",
      "dtypes: float64(2), int64(8), object(8)\n",
      "memory usage: 60.2+ MB\n"
     ]
    }
   ],
   "source": [
    "df_application.info()"
   ]
  },
  {
   "cell_type": "code",
   "execution_count": 5,
   "metadata": {},
   "outputs": [
    {
     "name": "stdout",
     "output_type": "stream",
     "text": [
      "<class 'pandas.core.frame.DataFrame'>\n",
      "RangeIndex: 1048575 entries, 0 to 1048574\n",
      "Data columns (total 3 columns):\n",
      " #   Column          Non-Null Count    Dtype \n",
      "---  ------          --------------    ----- \n",
      " 0   ID              1048575 non-null  int64 \n",
      " 1   MONTHS_BALANCE  1048575 non-null  int64 \n",
      " 2   STATUS          1048575 non-null  object\n",
      "dtypes: int64(2), object(1)\n",
      "memory usage: 24.0+ MB\n"
     ]
    }
   ],
   "source": [
    "df_credit.info()"
   ]
  },
  {
   "cell_type": "markdown",
   "metadata": {},
   "source": [
    "* It is shown that in the `df_application` DataFrame, only `Occupation type` has missing values. Thus, I prefer replacing the missing values with the string `Unknown` to droping the entries.\n",
    "* The number of entries in `df_credit` is much greater than that in `df_application`. It MAY show that some customers do not have application records. However, to check this, I will next **explore duplicates**."
   ]
  },
  {
   "cell_type": "markdown",
   "metadata": {},
   "source": [
    "### Missing values"
   ]
  },
  {
   "cell_type": "code",
   "execution_count": 6,
   "metadata": {},
   "outputs": [],
   "source": [
    "df_application['OCCUPATION_TYPE'].fillna('Unknown', inplace=True)"
   ]
  },
  {
   "cell_type": "markdown",
   "metadata": {},
   "source": [
    "### Duplicates\n",
    "First of all, I check if there were duplicated values in 2 DataFrames."
   ]
  },
  {
   "cell_type": "code",
   "execution_count": 7,
   "metadata": {},
   "outputs": [
    {
     "data": {
      "text/html": [
       "<div>\n",
       "<style scoped>\n",
       "    .dataframe tbody tr th:only-of-type {\n",
       "        vertical-align: middle;\n",
       "    }\n",
       "\n",
       "    .dataframe tbody tr th {\n",
       "        vertical-align: top;\n",
       "    }\n",
       "\n",
       "    .dataframe thead th {\n",
       "        text-align: right;\n",
       "    }\n",
       "</style>\n",
       "<table border=\"1\" class=\"dataframe\">\n",
       "  <thead>\n",
       "    <tr style=\"text-align: right;\">\n",
       "      <th></th>\n",
       "      <th>ID</th>\n",
       "      <th>CODE_GENDER</th>\n",
       "      <th>FLAG_OWN_CAR</th>\n",
       "      <th>FLAG_OWN_REALTY</th>\n",
       "      <th>CNT_CHILDREN</th>\n",
       "      <th>AMT_INCOME_TOTAL</th>\n",
       "      <th>NAME_INCOME_TYPE</th>\n",
       "      <th>NAME_EDUCATION_TYPE</th>\n",
       "      <th>NAME_FAMILY_STATUS</th>\n",
       "      <th>NAME_HOUSING_TYPE</th>\n",
       "      <th>DAYS_BIRTH</th>\n",
       "      <th>DAYS_EMPLOYED</th>\n",
       "      <th>FLAG_MOBIL</th>\n",
       "      <th>FLAG_WORK_PHONE</th>\n",
       "      <th>FLAG_PHONE</th>\n",
       "      <th>FLAG_EMAIL</th>\n",
       "      <th>OCCUPATION_TYPE</th>\n",
       "      <th>CNT_FAM_MEMBERS</th>\n",
       "    </tr>\n",
       "  </thead>\n",
       "  <tbody>\n",
       "    <tr>\n",
       "      <th>426818</th>\n",
       "      <td>7022197</td>\n",
       "      <td>M</td>\n",
       "      <td>Y</td>\n",
       "      <td>Y</td>\n",
       "      <td>3</td>\n",
       "      <td>135000.0</td>\n",
       "      <td>Working</td>\n",
       "      <td>Secondary / secondary special</td>\n",
       "      <td>Married</td>\n",
       "      <td>House / apartment</td>\n",
       "      <td>-11945</td>\n",
       "      <td>-735</td>\n",
       "      <td>1</td>\n",
       "      <td>0</td>\n",
       "      <td>0</td>\n",
       "      <td>1</td>\n",
       "      <td>Laborers</td>\n",
       "      <td>5.0</td>\n",
       "    </tr>\n",
       "    <tr>\n",
       "      <th>425023</th>\n",
       "      <td>7022197</td>\n",
       "      <td>F</td>\n",
       "      <td>N</td>\n",
       "      <td>Y</td>\n",
       "      <td>0</td>\n",
       "      <td>450000.0</td>\n",
       "      <td>Commercial associate</td>\n",
       "      <td>Higher education</td>\n",
       "      <td>Separated</td>\n",
       "      <td>House / apartment</td>\n",
       "      <td>-19813</td>\n",
       "      <td>-1799</td>\n",
       "      <td>1</td>\n",
       "      <td>0</td>\n",
       "      <td>0</td>\n",
       "      <td>1</td>\n",
       "      <td>Unknown</td>\n",
       "      <td>1.0</td>\n",
       "    </tr>\n",
       "    <tr>\n",
       "      <th>431545</th>\n",
       "      <td>7022327</td>\n",
       "      <td>F</td>\n",
       "      <td>N</td>\n",
       "      <td>Y</td>\n",
       "      <td>0</td>\n",
       "      <td>135000.0</td>\n",
       "      <td>Commercial associate</td>\n",
       "      <td>Secondary / secondary special</td>\n",
       "      <td>Single / not married</td>\n",
       "      <td>House / apartment</td>\n",
       "      <td>-14771</td>\n",
       "      <td>-5298</td>\n",
       "      <td>1</td>\n",
       "      <td>0</td>\n",
       "      <td>0</td>\n",
       "      <td>0</td>\n",
       "      <td>High skill tech staff</td>\n",
       "      <td>1.0</td>\n",
       "    </tr>\n",
       "    <tr>\n",
       "      <th>431911</th>\n",
       "      <td>7022327</td>\n",
       "      <td>M</td>\n",
       "      <td>Y</td>\n",
       "      <td>Y</td>\n",
       "      <td>0</td>\n",
       "      <td>256500.0</td>\n",
       "      <td>Commercial associate</td>\n",
       "      <td>Higher education</td>\n",
       "      <td>Married</td>\n",
       "      <td>House / apartment</td>\n",
       "      <td>-21503</td>\n",
       "      <td>-1674</td>\n",
       "      <td>1</td>\n",
       "      <td>0</td>\n",
       "      <td>0</td>\n",
       "      <td>1</td>\n",
       "      <td>Core staff</td>\n",
       "      <td>2.0</td>\n",
       "    </tr>\n",
       "    <tr>\n",
       "      <th>425486</th>\n",
       "      <td>7023108</td>\n",
       "      <td>M</td>\n",
       "      <td>Y</td>\n",
       "      <td>Y</td>\n",
       "      <td>1</td>\n",
       "      <td>67500.0</td>\n",
       "      <td>Working</td>\n",
       "      <td>Secondary / secondary special</td>\n",
       "      <td>Married</td>\n",
       "      <td>House / apartment</td>\n",
       "      <td>-15156</td>\n",
       "      <td>-1696</td>\n",
       "      <td>1</td>\n",
       "      <td>1</td>\n",
       "      <td>0</td>\n",
       "      <td>0</td>\n",
       "      <td>Core staff</td>\n",
       "      <td>3.0</td>\n",
       "    </tr>\n",
       "    <tr>\n",
       "      <th>...</th>\n",
       "      <td>...</td>\n",
       "      <td>...</td>\n",
       "      <td>...</td>\n",
       "      <td>...</td>\n",
       "      <td>...</td>\n",
       "      <td>...</td>\n",
       "      <td>...</td>\n",
       "      <td>...</td>\n",
       "      <td>...</td>\n",
       "      <td>...</td>\n",
       "      <td>...</td>\n",
       "      <td>...</td>\n",
       "      <td>...</td>\n",
       "      <td>...</td>\n",
       "      <td>...</td>\n",
       "      <td>...</td>\n",
       "      <td>...</td>\n",
       "      <td>...</td>\n",
       "    </tr>\n",
       "    <tr>\n",
       "      <th>426563</th>\n",
       "      <td>7836711</td>\n",
       "      <td>F</td>\n",
       "      <td>N</td>\n",
       "      <td>Y</td>\n",
       "      <td>2</td>\n",
       "      <td>292500.0</td>\n",
       "      <td>Working</td>\n",
       "      <td>Higher education</td>\n",
       "      <td>Married</td>\n",
       "      <td>House / apartment</td>\n",
       "      <td>-13747</td>\n",
       "      <td>-4386</td>\n",
       "      <td>1</td>\n",
       "      <td>0</td>\n",
       "      <td>1</td>\n",
       "      <td>0</td>\n",
       "      <td>Accountants</td>\n",
       "      <td>4.0</td>\n",
       "    </tr>\n",
       "    <tr>\n",
       "      <th>421464</th>\n",
       "      <td>7836971</td>\n",
       "      <td>M</td>\n",
       "      <td>Y</td>\n",
       "      <td>N</td>\n",
       "      <td>1</td>\n",
       "      <td>157500.0</td>\n",
       "      <td>Working</td>\n",
       "      <td>Secondary / secondary special</td>\n",
       "      <td>Married</td>\n",
       "      <td>House / apartment</td>\n",
       "      <td>-13771</td>\n",
       "      <td>-5520</td>\n",
       "      <td>1</td>\n",
       "      <td>0</td>\n",
       "      <td>0</td>\n",
       "      <td>0</td>\n",
       "      <td>Unknown</td>\n",
       "      <td>3.0</td>\n",
       "    </tr>\n",
       "    <tr>\n",
       "      <th>428620</th>\n",
       "      <td>7836971</td>\n",
       "      <td>F</td>\n",
       "      <td>N</td>\n",
       "      <td>Y</td>\n",
       "      <td>0</td>\n",
       "      <td>103500.0</td>\n",
       "      <td>Working</td>\n",
       "      <td>Secondary / secondary special</td>\n",
       "      <td>Civil marriage</td>\n",
       "      <td>House / apartment</td>\n",
       "      <td>-13383</td>\n",
       "      <td>-2798</td>\n",
       "      <td>1</td>\n",
       "      <td>0</td>\n",
       "      <td>1</td>\n",
       "      <td>0</td>\n",
       "      <td>Sales staff</td>\n",
       "      <td>2.0</td>\n",
       "    </tr>\n",
       "    <tr>\n",
       "      <th>422068</th>\n",
       "      <td>7838075</td>\n",
       "      <td>M</td>\n",
       "      <td>N</td>\n",
       "      <td>Y</td>\n",
       "      <td>0</td>\n",
       "      <td>337500.0</td>\n",
       "      <td>Commercial associate</td>\n",
       "      <td>Secondary / secondary special</td>\n",
       "      <td>Married</td>\n",
       "      <td>House / apartment</td>\n",
       "      <td>-18198</td>\n",
       "      <td>-1275</td>\n",
       "      <td>1</td>\n",
       "      <td>0</td>\n",
       "      <td>0</td>\n",
       "      <td>1</td>\n",
       "      <td>Drivers</td>\n",
       "      <td>2.0</td>\n",
       "    </tr>\n",
       "    <tr>\n",
       "      <th>423702</th>\n",
       "      <td>7838075</td>\n",
       "      <td>F</td>\n",
       "      <td>Y</td>\n",
       "      <td>Y</td>\n",
       "      <td>0</td>\n",
       "      <td>315000.0</td>\n",
       "      <td>Commercial associate</td>\n",
       "      <td>Higher education</td>\n",
       "      <td>Single / not married</td>\n",
       "      <td>House / apartment</td>\n",
       "      <td>-10698</td>\n",
       "      <td>-1659</td>\n",
       "      <td>1</td>\n",
       "      <td>0</td>\n",
       "      <td>0</td>\n",
       "      <td>1</td>\n",
       "      <td>Unknown</td>\n",
       "      <td>1.0</td>\n",
       "    </tr>\n",
       "  </tbody>\n",
       "</table>\n",
       "<p>94 rows × 18 columns</p>\n",
       "</div>"
      ],
      "text/plain": [
       "             ID CODE_GENDER FLAG_OWN_CAR FLAG_OWN_REALTY  CNT_CHILDREN  \\\n",
       "426818  7022197           M            Y               Y             3   \n",
       "425023  7022197           F            N               Y             0   \n",
       "431545  7022327           F            N               Y             0   \n",
       "431911  7022327           M            Y               Y             0   \n",
       "425486  7023108           M            Y               Y             1   \n",
       "...         ...         ...          ...             ...           ...   \n",
       "426563  7836711           F            N               Y             2   \n",
       "421464  7836971           M            Y               N             1   \n",
       "428620  7836971           F            N               Y             0   \n",
       "422068  7838075           M            N               Y             0   \n",
       "423702  7838075           F            Y               Y             0   \n",
       "\n",
       "        AMT_INCOME_TOTAL      NAME_INCOME_TYPE            NAME_EDUCATION_TYPE  \\\n",
       "426818          135000.0               Working  Secondary / secondary special   \n",
       "425023          450000.0  Commercial associate               Higher education   \n",
       "431545          135000.0  Commercial associate  Secondary / secondary special   \n",
       "431911          256500.0  Commercial associate               Higher education   \n",
       "425486           67500.0               Working  Secondary / secondary special   \n",
       "...                  ...                   ...                            ...   \n",
       "426563          292500.0               Working               Higher education   \n",
       "421464          157500.0               Working  Secondary / secondary special   \n",
       "428620          103500.0               Working  Secondary / secondary special   \n",
       "422068          337500.0  Commercial associate  Secondary / secondary special   \n",
       "423702          315000.0  Commercial associate               Higher education   \n",
       "\n",
       "          NAME_FAMILY_STATUS  NAME_HOUSING_TYPE  DAYS_BIRTH  DAYS_EMPLOYED  \\\n",
       "426818               Married  House / apartment      -11945           -735   \n",
       "425023             Separated  House / apartment      -19813          -1799   \n",
       "431545  Single / not married  House / apartment      -14771          -5298   \n",
       "431911               Married  House / apartment      -21503          -1674   \n",
       "425486               Married  House / apartment      -15156          -1696   \n",
       "...                      ...                ...         ...            ...   \n",
       "426563               Married  House / apartment      -13747          -4386   \n",
       "421464               Married  House / apartment      -13771          -5520   \n",
       "428620        Civil marriage  House / apartment      -13383          -2798   \n",
       "422068               Married  House / apartment      -18198          -1275   \n",
       "423702  Single / not married  House / apartment      -10698          -1659   \n",
       "\n",
       "        FLAG_MOBIL  FLAG_WORK_PHONE  FLAG_PHONE  FLAG_EMAIL  \\\n",
       "426818           1                0           0           1   \n",
       "425023           1                0           0           1   \n",
       "431545           1                0           0           0   \n",
       "431911           1                0           0           1   \n",
       "425486           1                1           0           0   \n",
       "...            ...              ...         ...         ...   \n",
       "426563           1                0           1           0   \n",
       "421464           1                0           0           0   \n",
       "428620           1                0           1           0   \n",
       "422068           1                0           0           1   \n",
       "423702           1                0           0           1   \n",
       "\n",
       "              OCCUPATION_TYPE  CNT_FAM_MEMBERS  \n",
       "426818               Laborers              5.0  \n",
       "425023                Unknown              1.0  \n",
       "431545  High skill tech staff              1.0  \n",
       "431911             Core staff              2.0  \n",
       "425486             Core staff              3.0  \n",
       "...                       ...              ...  \n",
       "426563            Accountants              4.0  \n",
       "421464                Unknown              3.0  \n",
       "428620            Sales staff              2.0  \n",
       "422068                Drivers              2.0  \n",
       "423702                Unknown              1.0  \n",
       "\n",
       "[94 rows x 18 columns]"
      ]
     },
     "execution_count": 7,
     "metadata": {},
     "output_type": "execute_result"
    }
   ],
   "source": [
    "dup_application = df_application[df_application.duplicated(subset=['ID'], keep=False)].sort_values('ID')\n",
    "dup_application"
   ]
  },
  {
   "cell_type": "code",
   "execution_count": 8,
   "metadata": {},
   "outputs": [
    {
     "data": {
      "text/html": [
       "<div>\n",
       "<style scoped>\n",
       "    .dataframe tbody tr th:only-of-type {\n",
       "        vertical-align: middle;\n",
       "    }\n",
       "\n",
       "    .dataframe tbody tr th {\n",
       "        vertical-align: top;\n",
       "    }\n",
       "\n",
       "    .dataframe thead th {\n",
       "        text-align: right;\n",
       "    }\n",
       "</style>\n",
       "<table border=\"1\" class=\"dataframe\">\n",
       "  <thead>\n",
       "    <tr style=\"text-align: right;\">\n",
       "      <th></th>\n",
       "      <th>ID</th>\n",
       "      <th>MONTHS_BALANCE</th>\n",
       "      <th>STATUS</th>\n",
       "    </tr>\n",
       "  </thead>\n",
       "  <tbody>\n",
       "    <tr>\n",
       "      <th>0</th>\n",
       "      <td>5001711</td>\n",
       "      <td>0</td>\n",
       "      <td>X</td>\n",
       "    </tr>\n",
       "    <tr>\n",
       "      <th>1</th>\n",
       "      <td>5001711</td>\n",
       "      <td>-1</td>\n",
       "      <td>0</td>\n",
       "    </tr>\n",
       "    <tr>\n",
       "      <th>2</th>\n",
       "      <td>5001711</td>\n",
       "      <td>-2</td>\n",
       "      <td>0</td>\n",
       "    </tr>\n",
       "    <tr>\n",
       "      <th>3</th>\n",
       "      <td>5001711</td>\n",
       "      <td>-3</td>\n",
       "      <td>0</td>\n",
       "    </tr>\n",
       "    <tr>\n",
       "      <th>22</th>\n",
       "      <td>5001712</td>\n",
       "      <td>-18</td>\n",
       "      <td>0</td>\n",
       "    </tr>\n",
       "    <tr>\n",
       "      <th>...</th>\n",
       "      <td>...</td>\n",
       "      <td>...</td>\n",
       "      <td>...</td>\n",
       "    </tr>\n",
       "    <tr>\n",
       "      <th>1048546</th>\n",
       "      <td>5150487</td>\n",
       "      <td>-1</td>\n",
       "      <td>C</td>\n",
       "    </tr>\n",
       "    <tr>\n",
       "      <th>1048545</th>\n",
       "      <td>5150487</td>\n",
       "      <td>0</td>\n",
       "      <td>C</td>\n",
       "    </tr>\n",
       "    <tr>\n",
       "      <th>1048573</th>\n",
       "      <td>5150487</td>\n",
       "      <td>-28</td>\n",
       "      <td>C</td>\n",
       "    </tr>\n",
       "    <tr>\n",
       "      <th>1048558</th>\n",
       "      <td>5150487</td>\n",
       "      <td>-13</td>\n",
       "      <td>C</td>\n",
       "    </tr>\n",
       "    <tr>\n",
       "      <th>1048574</th>\n",
       "      <td>5150487</td>\n",
       "      <td>-29</td>\n",
       "      <td>C</td>\n",
       "    </tr>\n",
       "  </tbody>\n",
       "</table>\n",
       "<p>1048176 rows × 3 columns</p>\n",
       "</div>"
      ],
      "text/plain": [
       "              ID  MONTHS_BALANCE STATUS\n",
       "0        5001711               0      X\n",
       "1        5001711              -1      0\n",
       "2        5001711              -2      0\n",
       "3        5001711              -3      0\n",
       "22       5001712             -18      0\n",
       "...          ...             ...    ...\n",
       "1048546  5150487              -1      C\n",
       "1048545  5150487               0      C\n",
       "1048573  5150487             -28      C\n",
       "1048558  5150487             -13      C\n",
       "1048574  5150487             -29      C\n",
       "\n",
       "[1048176 rows x 3 columns]"
      ]
     },
     "execution_count": 8,
     "metadata": {},
     "output_type": "execute_result"
    }
   ],
   "source": [
    "dup_credit = df_credit[df_credit.duplicated(subset=['ID'], keep=False)].sort_values('ID')\n",
    "dup_credit"
   ]
  },
  {
   "cell_type": "markdown",
   "metadata": {},
   "source": [
    "There are a lot of duplicated values. Till now, I don't have any explanations for this problem.\n",
    "\n",
    "Therefore, to merge data, I will **drop duplicated values**, just keeping 1 entry, let say the last entry."
   ]
  },
  {
   "cell_type": "code",
   "execution_count": 9,
   "metadata": {},
   "outputs": [],
   "source": [
    "df_application.drop_duplicates(subset=['ID'], keep='last', inplace=True)"
   ]
  },
  {
   "cell_type": "code",
   "execution_count": 10,
   "metadata": {},
   "outputs": [
    {
     "name": "stdout",
     "output_type": "stream",
     "text": [
      "<class 'pandas.core.frame.DataFrame'>\n",
      "Index: 438510 entries, 0 to 438556\n",
      "Data columns (total 18 columns):\n",
      " #   Column               Non-Null Count   Dtype  \n",
      "---  ------               --------------   -----  \n",
      " 0   ID                   438510 non-null  int64  \n",
      " 1   CODE_GENDER          438510 non-null  object \n",
      " 2   FLAG_OWN_CAR         438510 non-null  object \n",
      " 3   FLAG_OWN_REALTY      438510 non-null  object \n",
      " 4   CNT_CHILDREN         438510 non-null  int64  \n",
      " 5   AMT_INCOME_TOTAL     438510 non-null  float64\n",
      " 6   NAME_INCOME_TYPE     438510 non-null  object \n",
      " 7   NAME_EDUCATION_TYPE  438510 non-null  object \n",
      " 8   NAME_FAMILY_STATUS   438510 non-null  object \n",
      " 9   NAME_HOUSING_TYPE    438510 non-null  object \n",
      " 10  DAYS_BIRTH           438510 non-null  int64  \n",
      " 11  DAYS_EMPLOYED        438510 non-null  int64  \n",
      " 12  FLAG_MOBIL           438510 non-null  int64  \n",
      " 13  FLAG_WORK_PHONE      438510 non-null  int64  \n",
      " 14  FLAG_PHONE           438510 non-null  int64  \n",
      " 15  FLAG_EMAIL           438510 non-null  int64  \n",
      " 16  OCCUPATION_TYPE      438510 non-null  object \n",
      " 17  CNT_FAM_MEMBERS      438510 non-null  float64\n",
      "dtypes: float64(2), int64(8), object(8)\n",
      "memory usage: 63.6+ MB\n"
     ]
    }
   ],
   "source": [
    "df_application.info()"
   ]
  },
  {
   "cell_type": "markdown",
   "metadata": {},
   "source": [
    "## Merging\n",
    "Based on `ID`"
   ]
  },
  {
   "cell_type": "code",
   "execution_count": 11,
   "metadata": {},
   "outputs": [
    {
     "name": "stdout",
     "output_type": "stream",
     "text": [
      "<class 'pandas.core.frame.DataFrame'>\n",
      "RangeIndex: 1179768 entries, 0 to 1179767\n",
      "Data columns (total 20 columns):\n",
      " #   Column               Non-Null Count    Dtype  \n",
      "---  ------               --------------    -----  \n",
      " 0   ID                   1179768 non-null  int64  \n",
      " 1   MONTHS_BALANCE       777715 non-null   float64\n",
      " 2   STATUS               777715 non-null   object \n",
      " 3   CODE_GENDER          1179768 non-null  object \n",
      " 4   FLAG_OWN_CAR         1179768 non-null  object \n",
      " 5   FLAG_OWN_REALTY      1179768 non-null  object \n",
      " 6   CNT_CHILDREN         1179768 non-null  int64  \n",
      " 7   AMT_INCOME_TOTAL     1179768 non-null  float64\n",
      " 8   NAME_INCOME_TYPE     1179768 non-null  object \n",
      " 9   NAME_EDUCATION_TYPE  1179768 non-null  object \n",
      " 10  NAME_FAMILY_STATUS   1179768 non-null  object \n",
      " 11  NAME_HOUSING_TYPE    1179768 non-null  object \n",
      " 12  DAYS_BIRTH           1179768 non-null  int64  \n",
      " 13  DAYS_EMPLOYED        1179768 non-null  int64  \n",
      " 14  FLAG_MOBIL           1179768 non-null  int64  \n",
      " 15  FLAG_WORK_PHONE      1179768 non-null  int64  \n",
      " 16  FLAG_PHONE           1179768 non-null  int64  \n",
      " 17  FLAG_EMAIL           1179768 non-null  int64  \n",
      " 18  OCCUPATION_TYPE      1179768 non-null  object \n",
      " 19  CNT_FAM_MEMBERS      1179768 non-null  float64\n",
      "dtypes: float64(3), int64(8), object(9)\n",
      "memory usage: 180.0+ MB\n"
     ]
    }
   ],
   "source": [
    "df = df_credit.merge(df_application, how='right', left_on='ID', right_on='ID')\n",
    "df.info()"
   ]
  },
  {
   "cell_type": "markdown",
   "metadata": {},
   "source": [
    "## Transforming\n",
    "There are some tasks should be done to clean data.\n",
    "* `DAYS_BIRTH` should be converted into `AGE` (divided by 365)\n",
    "* `DAYS_EMPLOYED` should be converted into `WORKING_YEARS` (divided by 365)\n",
    "* `MONTHS_BALANCE`'s missing values are filled by the median"
   ]
  },
  {
   "cell_type": "code",
   "execution_count": 12,
   "metadata": {},
   "outputs": [],
   "source": [
    "# Convert DAYS_BIRTH column to numeric type\n",
    "df['DAYS_BIRTH'] = pd.to_numeric(df['DAYS_BIRTH'], errors='coerce')\n",
    "df['AGE'] = (df['DAYS_BIRTH']*-1 / 365).astype(int)\n",
    "df.drop('DAYS_BIRTH', axis=1, inplace=True)"
   ]
  },
  {
   "cell_type": "code",
   "execution_count": 13,
   "metadata": {},
   "outputs": [],
   "source": [
    "# Convert DAYS_BIRTH column to numeric type\n",
    "df['DAYS_EMPLOYED'] = pd.to_numeric(df['DAYS_EMPLOYED'], errors='coerce')\n",
    "df['WORKING_YEARS'] = (df['DAYS_EMPLOYED']*-1 / 365).astype(int)\n",
    "df.drop('DAYS_EMPLOYED', axis=1, inplace=True)"
   ]
  },
  {
   "cell_type": "code",
   "execution_count": 14,
   "metadata": {},
   "outputs": [],
   "source": [
    "# Fill missing values with median\n",
    "df['MONTHS_BALANCE'] = df['MONTHS_BALANCE'].fillna(df['MONTHS_BALANCE'].median())"
   ]
  },
  {
   "cell_type": "markdown",
   "metadata": {},
   "source": [
    "First of all, I consider the `STATUS` column, based on the quality (ascending order, the better, the greater number):\n",
    "* 0: 1-29 days past due => Replace by 5\n",
    "* 1: 30-59 days past due => Replace by 4\n",
    "* 2: 60-89 days overdue => Replace by 3\n",
    "* 3: 90-119 days overdue => Replace by 2\n",
    "* 4: 120-149 days overdue => Replace by 1\n",
    "* 5: Overdue or bad debts, write-offs for more than 150 days => Replace by 0\n",
    "* C: paid off that month => Replace by 7\n",
    "* X: No loan for the month => Replace by 6"
   ]
  },
  {
   "cell_type": "code",
   "execution_count": 15,
   "metadata": {},
   "outputs": [],
   "source": [
    "status_score_map = {\n",
    "    '0': 5,\n",
    "    '1': 4,\n",
    "    '2': 3,\n",
    "    '3': 2,\n",
    "    '4': 1,\n",
    "    '5': 0,\n",
    "    'C': 7,\n",
    "    'X': 6\n",
    "}\n",
    "\n",
    "df['STATUS_SCORE'] = df['STATUS'].map(status_score_map)\n",
    "df.drop(['STATUS'], inplace=True, axis=1)\n",
    "df.dropna(inplace=True)"
   ]
  },
  {
   "cell_type": "markdown",
   "metadata": {},
   "source": [
    "## Visualizing"
   ]
  },
  {
   "cell_type": "code",
   "execution_count": 16,
   "metadata": {},
   "outputs": [
    {
     "data": {
      "image/png": "[encoded data removed]",
      "text/plain": [
       "<Figure size 1000x600 with 1 Axes>"
      ]
     },
     "metadata": {},
     "output_type": "display_data"
    }
   ],
   "source": [
    "plt.figure(figsize=(10, 6))\n",
    "sns.countplot(x='STATUS_SCORE', data=df)\n",
    "plt.title('STATUS histogram')\n",
    "plt.xlabel('STATUS_SCORE')\n",
    "plt.ylabel('Count')\n",
    "plt.show()"
   ]
  },
  {
   "cell_type": "markdown",
   "metadata": {},
   "source": [
    "It is apparent that this dataset is unbalanced - most of the STATUS_SCORE classes are in high levels, while classes like 0,1,2,3,4 (which represent low credit ratings) are seldom. This may cause an issue later when training models. However, I will consider it later."
   ]
  },
  {
   "cell_type": "markdown",
   "metadata": {},
   "source": [
    "# Preprocessing & Feature Engineering\n",
    "## Declare features and target variable"
   ]
  },
  {
   "cell_type": "code",
   "execution_count": 17,
   "metadata": {},
   "outputs": [],
   "source": [
    "X = df.drop(['STATUS_SCORE', 'ID'], axis=1)\n",
    "y = df['STATUS_SCORE']"
   ]
  },
  {
   "cell_type": "markdown",
   "metadata": {},
   "source": [
    "## Split dataset into training and test set"
   ]
  },
  {
   "cell_type": "code",
   "execution_count": 18,
   "metadata": {},
   "outputs": [],
   "source": [
    "X_train, X_test, y_train, y_test = train_test_split(X, y, test_size = 0.2)"
   ]
  },
  {
   "cell_type": "markdown",
   "metadata": {},
   "source": [
    "## Encoding categorical variables\n",
    "Here I perform several encoding.\n",
    "\n",
    "As categorical features are not in order, I perform `Binary Encoding` and `get_dummies`:\n",
    "* If there are only 2 unique values, `Binary Encoding` is utilized\n",
    "* Otherwise, `get_dummies`\n",
    "\n",
    "(Some categorical features have already encoded, e.g., FLAG_EMAIL. Thus, I will exclude them from this step)"
   ]
  },
  {
   "cell_type": "code",
   "execution_count": 19,
   "metadata": {},
   "outputs": [],
   "source": [
    "# Identify categorical and numerical features\n",
    "already_encoded = ['FLAG_MOBIL','FLAG_WORK_PHONE','FLAG_PHONE', 'FLAG_EMAIL']\n",
    "\n",
    "categorical_columns = X.select_dtypes(include=['object']).columns\n",
    "numerical_columns = X.select_dtypes(include=['int64', 'int32', 'float64']).columns.drop(already_encoded)\n",
    "binary_columns = [col for col in categorical_columns if len(X[col].unique()) == 2]\n",
    "categorical_columns = categorical_columns.drop(binary_columns)"
   ]
  },
  {
   "cell_type": "code",
   "execution_count": 20,
   "metadata": {},
   "outputs": [],
   "source": [
    "X_train = pd.concat([X_train[numerical_columns]] + \n",
    "    [pd.get_dummies(X_train[col1], prefix=col1) for col1 in categorical_columns] +\n",
    "    [pd.Series(LabelEncoder().fit_transform(X_train[col2]), name=col2, index=X_train.index) for col2 in binary_columns],\n",
    "    axis=1)\n",
    "\n",
    "X_test = pd.concat([X_test[numerical_columns]] + \n",
    "    [pd.get_dummies(X_test[col1], prefix=col1) for col1 in categorical_columns] +\n",
    "    [pd.Series(LabelEncoder().fit_transform(X_test[col2]), name=col2, index=X_test.index) for col2 in binary_columns],\n",
    "    axis=1)"
   ]
  },
  {
   "cell_type": "code",
   "execution_count": 21,
   "metadata": {},
   "outputs": [
    {
     "name": "stdout",
     "output_type": "stream",
     "text": [
      "<class 'pandas.core.frame.DataFrame'>\n",
      "Index: 622172 entries, 71374 to 602234\n",
      "Data columns (total 49 columns):\n",
      " #   Column                                             Non-Null Count   Dtype  \n",
      "---  ------                                             --------------   -----  \n",
      " 0   MONTHS_BALANCE                                     622172 non-null  float64\n",
      " 1   CNT_CHILDREN                                       622172 non-null  int64  \n",
      " 2   AMT_INCOME_TOTAL                                   622172 non-null  float64\n",
      " 3   CNT_FAM_MEMBERS                                    622172 non-null  float64\n",
      " 4   AGE                                                622172 non-null  int32  \n",
      " 5   WORKING_YEARS                                      622172 non-null  int32  \n",
      " 6   NAME_INCOME_TYPE_Commercial associate              622172 non-null  bool   \n",
      " 7   NAME_INCOME_TYPE_Pensioner                         622172 non-null  bool   \n",
      " 8   NAME_INCOME_TYPE_State servant                     622172 non-null  bool   \n",
      " 9   NAME_INCOME_TYPE_Student                           622172 non-null  bool   \n",
      " 10  NAME_INCOME_TYPE_Working                           622172 non-null  bool   \n",
      " 11  NAME_EDUCATION_TYPE_Academic degree                622172 non-null  bool   \n",
      " 12  NAME_EDUCATION_TYPE_Higher education               622172 non-null  bool   \n",
      " 13  NAME_EDUCATION_TYPE_Incomplete higher              622172 non-null  bool   \n",
      " 14  NAME_EDUCATION_TYPE_Lower secondary                622172 non-null  bool   \n",
      " 15  NAME_EDUCATION_TYPE_Secondary / secondary special  622172 non-null  bool   \n",
      " 16  NAME_FAMILY_STATUS_Civil marriage                  622172 non-null  bool   \n",
      " 17  NAME_FAMILY_STATUS_Married                         622172 non-null  bool   \n",
      " 18  NAME_FAMILY_STATUS_Separated                       622172 non-null  bool   \n",
      " 19  NAME_FAMILY_STATUS_Single / not married            622172 non-null  bool   \n",
      " 20  NAME_FAMILY_STATUS_Widow                           622172 non-null  bool   \n",
      " 21  NAME_HOUSING_TYPE_Co-op apartment                  622172 non-null  bool   \n",
      " 22  NAME_HOUSING_TYPE_House / apartment                622172 non-null  bool   \n",
      " 23  NAME_HOUSING_TYPE_Municipal apartment              622172 non-null  bool   \n",
      " 24  NAME_HOUSING_TYPE_Office apartment                 622172 non-null  bool   \n",
      " 25  NAME_HOUSING_TYPE_Rented apartment                 622172 non-null  bool   \n",
      " 26  NAME_HOUSING_TYPE_With parents                     622172 non-null  bool   \n",
      " 27  OCCUPATION_TYPE_Accountants                        622172 non-null  bool   \n",
      " 28  OCCUPATION_TYPE_Cleaning staff                     622172 non-null  bool   \n",
      " 29  OCCUPATION_TYPE_Cooking staff                      622172 non-null  bool   \n",
      " 30  OCCUPATION_TYPE_Core staff                         622172 non-null  bool   \n",
      " 31  OCCUPATION_TYPE_Drivers                            622172 non-null  bool   \n",
      " 32  OCCUPATION_TYPE_HR staff                           622172 non-null  bool   \n",
      " 33  OCCUPATION_TYPE_High skill tech staff              622172 non-null  bool   \n",
      " 34  OCCUPATION_TYPE_IT staff                           622172 non-null  bool   \n",
      " 35  OCCUPATION_TYPE_Laborers                           622172 non-null  bool   \n",
      " 36  OCCUPATION_TYPE_Low-skill Laborers                 622172 non-null  bool   \n",
      " 37  OCCUPATION_TYPE_Managers                           622172 non-null  bool   \n",
      " 38  OCCUPATION_TYPE_Medicine staff                     622172 non-null  bool   \n",
      " 39  OCCUPATION_TYPE_Private service staff              622172 non-null  bool   \n",
      " 40  OCCUPATION_TYPE_Realty agents                      622172 non-null  bool   \n",
      " 41  OCCUPATION_TYPE_Sales staff                        622172 non-null  bool   \n",
      " 42  OCCUPATION_TYPE_Secretaries                        622172 non-null  bool   \n",
      " 43  OCCUPATION_TYPE_Security staff                     622172 non-null  bool   \n",
      " 44  OCCUPATION_TYPE_Unknown                            622172 non-null  bool   \n",
      " 45  OCCUPATION_TYPE_Waiters/barmen staff               622172 non-null  bool   \n",
      " 46  CODE_GENDER                                        622172 non-null  int32  \n",
      " 47  FLAG_OWN_CAR                                       622172 non-null  int32  \n",
      " 48  FLAG_OWN_REALTY                                    622172 non-null  int32  \n",
      "dtypes: bool(40), float64(3), int32(5), int64(1)\n",
      "memory usage: 59.3 MB\n"
     ]
    }
   ],
   "source": [
    "X_train.info()"
   ]
  },
  {
   "cell_type": "markdown",
   "metadata": {},
   "source": [
    "## Feature Scaling"
   ]
  },
  {
   "cell_type": "code",
   "execution_count": 22,
   "metadata": {},
   "outputs": [],
   "source": [
    "scaler = StandardScaler()\n",
    "X_train[numerical_columns] = scaler.fit_transform(X_train[numerical_columns])\n",
    "X_test[numerical_columns] = scaler.transform(X_test[numerical_columns])"
   ]
  },
  {
   "cell_type": "markdown",
   "metadata": {},
   "source": [
    "Before training model, I want to glance at the relationships between them."
   ]
  },
  {
   "cell_type": "code",
   "execution_count": 23,
   "metadata": {},
   "outputs": [
    {
     "data": {
      "image/png": "[encoded data removed]",
      "text/plain": [
       "<Figure size 1400x1200 with 2 Axes>"
      ]
     },
     "metadata": {},
     "output_type": "display_data"
    }
   ],
   "source": [
    "plt.figure(figsize=(14,12))\n",
    "sns.heatmap(df.select_dtypes(include=['int', 'float']).corr(),linewidths=0.1,vmax=1.0, \n",
    "            square=True, cmap = plt.cm.Greens, linecolor='white', annot=True)\n",
    "plt.show()"
   ]
  },
  {
   "cell_type": "markdown",
   "metadata": {},
   "source": [
    "# Model training and evaluation\n",
    "In this case, I will use RandomForest algorithm for the following reasons:\n",
    "* RandomForest can efficiently handle multiclass classification tasks\n",
    "* Fast training speed and high accuracy\n",
    "* Compatible with large and complex datasets\n",
    "\n",
    "Firstly, I train the model with default parameters\n",
    "## 1. Train RF model with default parameters"
   ]
  },
  {
   "cell_type": "code",
   "execution_count": 24,
   "metadata": {},
   "outputs": [
    {
     "data": {
      "text/html": [
       "<style>#sk-container-id-1 {color: black;}#sk-container-id-1 pre{padding: 0;}#sk-container-id-1 div.sk-toggleable {background-color: white;}#sk-container-id-1 label.sk-toggleable__label {cursor: pointer;display: block;width: 100%;margin-bottom: 0;padding: 0.3em;box-sizing: border-box;text-align: center;}#sk-container-id-1 label.sk-toggleable__label-arrow:before {content: \"▸\";float: left;margin-right: 0.25em;color: #696969;}#sk-container-id-1 label.sk-toggleable__label-arrow:hover:before {color: black;}#sk-container-id-1 div.sk-estimator:hover label.sk-toggleable__label-arrow:before {color: black;}#sk-container-id-1 div.sk-toggleable__content {max-height: 0;max-width: 0;overflow: hidden;text-align: left;background-color: #f0f8ff;}#sk-container-id-1 div.sk-toggleable__content pre {margin: 0.2em;color: black;border-radius: 0.25em;background-color: #f0f8ff;}#sk-container-id-1 input.sk-toggleable__control:checked~div.sk-toggleable__content {max-height: 200px;max-width: 100%;overflow: auto;}#sk-container-id-1 input.sk-toggleable__control:checked~label.sk-toggleable__label-arrow:before {content: \"▾\";}#sk-container-id-1 div.sk-estimator input.sk-toggleable__control:checked~label.sk-toggleable__label {background-color: #d4ebff;}#sk-container-id-1 div.sk-label input.sk-toggleable__control:checked~label.sk-toggleable__label {background-color: #d4ebff;}#sk-container-id-1 input.sk-hidden--visually {border: 0;clip: rect(1px 1px 1px 1px);clip: rect(1px, 1px, 1px, 1px);height: 1px;margin: -1px;overflow: hidden;padding: 0;position: absolute;width: 1px;}#sk-container-id-1 div.sk-estimator {font-family: monospace;background-color: #f0f8ff;border: 1px dotted black;border-radius: 0.25em;box-sizing: border-box;margin-bottom: 0.5em;}#sk-container-id-1 div.sk-estimator:hover {background-color: #d4ebff;}#sk-container-id-1 div.sk-parallel-item::after {content: \"\";width: 100%;border-bottom: 1px solid gray;flex-grow: 1;}#sk-container-id-1 div.sk-label:hover label.sk-toggleable__label {background-color: #d4ebff;}#sk-container-id-1 div.sk-serial::before {content: \"\";position: absolute;border-left: 1px solid gray;box-sizing: border-box;top: 0;bottom: 0;left: 50%;z-index: 0;}#sk-container-id-1 div.sk-serial {display: flex;flex-direction: column;align-items: center;background-color: white;padding-right: 0.2em;padding-left: 0.2em;position: relative;}#sk-container-id-1 div.sk-item {position: relative;z-index: 1;}#sk-container-id-1 div.sk-parallel {display: flex;align-items: stretch;justify-content: center;background-color: white;position: relative;}#sk-container-id-1 div.sk-item::before, #sk-container-id-1 div.sk-parallel-item::before {content: \"\";position: absolute;border-left: 1px solid gray;box-sizing: border-box;top: 0;bottom: 0;left: 50%;z-index: -1;}#sk-container-id-1 div.sk-parallel-item {display: flex;flex-direction: column;z-index: 1;position: relative;background-color: white;}#sk-container-id-1 div.sk-parallel-item:first-child::after {align-self: flex-end;width: 50%;}#sk-container-id-1 div.sk-parallel-item:last-child::after {align-self: flex-start;width: 50%;}#sk-container-id-1 div.sk-parallel-item:only-child::after {width: 0;}#sk-container-id-1 div.sk-dashed-wrapped {border: 1px dashed gray;margin: 0 0.4em 0.5em 0.4em;box-sizing: border-box;padding-bottom: 0.4em;background-color: white;}#sk-container-id-1 div.sk-label label {font-family: monospace;font-weight: bold;display: inline-block;line-height: 1.2em;}#sk-container-id-1 div.sk-label-container {text-align: center;}#sk-container-id-1 div.sk-container {/* jupyter's `normalize.less` sets `[hidden] { display: none; }` but bootstrap.min.css set `[hidden] { display: none !important; }` so we also need the `!important` here to be able to override the default hidden behavior on the sphinx rendered scikit-learn.org. See: https://github.com/scikit-learn/scikit-learn/issues/21755 */display: inline-block !important;position: relative;}#sk-container-id-1 div.sk-text-repr-fallback {display: none;}</style><div id=\"sk-container-id-1\" class=\"sk-top-container\"><div class=\"sk-text-repr-fallback\"><pre>RandomForestClassifier()</pre><b>In a Jupyter environment, please rerun this cell to show the HTML representation or trust the notebook. <br />On GitHub, the HTML representation is unable to render, please try loading this page with nbviewer.org.</b></div><div class=\"sk-container\" hidden><div class=\"sk-item\"><div class=\"sk-estimator sk-toggleable\"><input class=\"sk-toggleable__control sk-hidden--visually\" id=\"sk-estimator-id-1\" type=\"checkbox\" checked><label for=\"sk-estimator-id-1\" class=\"sk-toggleable__label sk-toggleable__label-arrow\">RandomForestClassifier</label><div class=\"sk-toggleable__content\"><pre>RandomForestClassifier()</pre></div></div></div></div></div>"
      ],
      "text/plain": [
       "RandomForestClassifier()"
      ]
     },
     "execution_count": 24,
     "metadata": {},
     "output_type": "execute_result"
    }
   ],
   "source": [
    "rf = RandomForestClassifier()\n",
    "rf.fit(X_train,y_train)"
   ]
  },
  {
   "cell_type": "markdown",
   "metadata": {},
   "source": [
    "### Evaluation"
   ]
  },
  {
   "cell_type": "code",
   "execution_count": 25,
   "metadata": {},
   "outputs": [
    {
     "name": "stdout",
     "output_type": "stream",
     "text": [
      "Accuracy: 0.608076223295166\n",
      "              precision    recall  f1-score   support\n",
      "\n",
      "         0.0       0.49      0.50      0.49       288\n",
      "         1.0       0.08      0.07      0.08        41\n",
      "         2.0       0.00      0.00      0.00        50\n",
      "         3.0       0.10      0.07      0.09       160\n",
      "         4.0       0.21      0.15      0.18      1720\n",
      "         5.0       0.60      0.59      0.60     58135\n",
      "         6.0       0.53      0.48      0.51     29075\n",
      "         7.0       0.65      0.70      0.67     66074\n",
      "\n",
      "    accuracy                           0.61    155543\n",
      "   macro avg       0.33      0.32      0.33    155543\n",
      "weighted avg       0.60      0.61      0.61    155543\n",
      "\n"
     ]
    }
   ],
   "source": [
    "# Predict\n",
    "y_pred = rf.predict(X_test)\n",
    "\n",
    "# Accuracy score\n",
    "accuracy = accuracy_score(y_test, y_pred)\n",
    "print('Accuracy:', accuracy)\n",
    "\n",
    "# Classification report\n",
    "print(classification_report(y_test, y_pred))"
   ]
  },
  {
   "cell_type": "markdown",
   "metadata": {},
   "source": [
    "## 2. Feature importance\n",
    "I find the 20 most important features, then retrain the model with those features."
   ]
  },
  {
   "cell_type": "code",
   "execution_count": 26,
   "metadata": {},
   "outputs": [
    {
     "name": "stdout",
     "output_type": "stream",
     "text": [
      "The 20 most important features:\n",
      "                                    feature  importance\n",
      "0                            MONTHS_BALANCE    0.414418\n",
      "4                                       AGE    0.127251\n",
      "2                          AMT_INCOME_TOTAL    0.122673\n",
      "5                             WORKING_YEARS    0.075599\n",
      "48                          FLAG_OWN_REALTY    0.022579\n",
      "3                           CNT_FAM_MEMBERS    0.020787\n",
      "47                             FLAG_OWN_CAR    0.017542\n",
      "1                              CNT_CHILDREN    0.016308\n",
      "46                              CODE_GENDER    0.015707\n",
      "10                 NAME_INCOME_TYPE_Working    0.011206\n",
      "6     NAME_INCOME_TYPE_Commercial associate    0.010341\n",
      "44                  OCCUPATION_TYPE_Unknown    0.009788\n",
      "17               NAME_FAMILY_STATUS_Married    0.009365\n",
      "35                 OCCUPATION_TYPE_Laborers    0.009288\n",
      "30               OCCUPATION_TYPE_Core staff    0.007735\n",
      "41              OCCUPATION_TYPE_Sales staff    0.007318\n",
      "37                 OCCUPATION_TYPE_Managers    0.006956\n",
      "22      NAME_HOUSING_TYPE_House / apartment    0.006777\n",
      "19  NAME_FAMILY_STATUS_Single / not married    0.006353\n",
      "16        NAME_FAMILY_STATUS_Civil marriage    0.006225\n"
     ]
    }
   ],
   "source": [
    "# Display feature importance levels\n",
    "feature_importance = pd.DataFrame({'feature': X_train.columns, 'importance': rf.feature_importances_})\n",
    "feature_importance = feature_importance.sort_values('importance', ascending=False)\n",
    "print(\"The 20 most important features:\")\n",
    "print(feature_importance.head(20))"
   ]
  },
  {
   "cell_type": "code",
   "execution_count": 27,
   "metadata": {},
   "outputs": [
    {
     "data": {
      "text/html": [
       "<style>#sk-container-id-2 {color: black;}#sk-container-id-2 pre{padding: 0;}#sk-container-id-2 div.sk-toggleable {background-color: white;}#sk-container-id-2 label.sk-toggleable__label {cursor: pointer;display: block;width: 100%;margin-bottom: 0;padding: 0.3em;box-sizing: border-box;text-align: center;}#sk-container-id-2 label.sk-toggleable__label-arrow:before {content: \"▸\";float: left;margin-right: 0.25em;color: #696969;}#sk-container-id-2 label.sk-toggleable__label-arrow:hover:before {color: black;}#sk-container-id-2 div.sk-estimator:hover label.sk-toggleable__label-arrow:before {color: black;}#sk-container-id-2 div.sk-toggleable__content {max-height: 0;max-width: 0;overflow: hidden;text-align: left;background-color: #f0f8ff;}#sk-container-id-2 div.sk-toggleable__content pre {margin: 0.2em;color: black;border-radius: 0.25em;background-color: #f0f8ff;}#sk-container-id-2 input.sk-toggleable__control:checked~div.sk-toggleable__content {max-height: 200px;max-width: 100%;overflow: auto;}#sk-container-id-2 input.sk-toggleable__control:checked~label.sk-toggleable__label-arrow:before {content: \"▾\";}#sk-container-id-2 div.sk-estimator input.sk-toggleable__control:checked~label.sk-toggleable__label {background-color: #d4ebff;}#sk-container-id-2 div.sk-label input.sk-toggleable__control:checked~label.sk-toggleable__label {background-color: #d4ebff;}#sk-container-id-2 input.sk-hidden--visually {border: 0;clip: rect(1px 1px 1px 1px);clip: rect(1px, 1px, 1px, 1px);height: 1px;margin: -1px;overflow: hidden;padding: 0;position: absolute;width: 1px;}#sk-container-id-2 div.sk-estimator {font-family: monospace;background-color: #f0f8ff;border: 1px dotted black;border-radius: 0.25em;box-sizing: border-box;margin-bottom: 0.5em;}#sk-container-id-2 div.sk-estimator:hover {background-color: #d4ebff;}#sk-container-id-2 div.sk-parallel-item::after {content: \"\";width: 100%;border-bottom: 1px solid gray;flex-grow: 1;}#sk-container-id-2 div.sk-label:hover label.sk-toggleable__label {background-color: #d4ebff;}#sk-container-id-2 div.sk-serial::before {content: \"\";position: absolute;border-left: 1px solid gray;box-sizing: border-box;top: 0;bottom: 0;left: 50%;z-index: 0;}#sk-container-id-2 div.sk-serial {display: flex;flex-direction: column;align-items: center;background-color: white;padding-right: 0.2em;padding-left: 0.2em;position: relative;}#sk-container-id-2 div.sk-item {position: relative;z-index: 1;}#sk-container-id-2 div.sk-parallel {display: flex;align-items: stretch;justify-content: center;background-color: white;position: relative;}#sk-container-id-2 div.sk-item::before, #sk-container-id-2 div.sk-parallel-item::before {content: \"\";position: absolute;border-left: 1px solid gray;box-sizing: border-box;top: 0;bottom: 0;left: 50%;z-index: -1;}#sk-container-id-2 div.sk-parallel-item {display: flex;flex-direction: column;z-index: 1;position: relative;background-color: white;}#sk-container-id-2 div.sk-parallel-item:first-child::after {align-self: flex-end;width: 50%;}#sk-container-id-2 div.sk-parallel-item:last-child::after {align-self: flex-start;width: 50%;}#sk-container-id-2 div.sk-parallel-item:only-child::after {width: 0;}#sk-container-id-2 div.sk-dashed-wrapped {border: 1px dashed gray;margin: 0 0.4em 0.5em 0.4em;box-sizing: border-box;padding-bottom: 0.4em;background-color: white;}#sk-container-id-2 div.sk-label label {font-family: monospace;font-weight: bold;display: inline-block;line-height: 1.2em;}#sk-container-id-2 div.sk-label-container {text-align: center;}#sk-container-id-2 div.sk-container {/* jupyter's `normalize.less` sets `[hidden] { display: none; }` but bootstrap.min.css set `[hidden] { display: none !important; }` so we also need the `!important` here to be able to override the default hidden behavior on the sphinx rendered scikit-learn.org. See: https://github.com/scikit-learn/scikit-learn/issues/21755 */display: inline-block !important;position: relative;}#sk-container-id-2 div.sk-text-repr-fallback {display: none;}</style><div id=\"sk-container-id-2\" class=\"sk-top-container\"><div class=\"sk-text-repr-fallback\"><pre>RandomForestClassifier()</pre><b>In a Jupyter environment, please rerun this cell to show the HTML representation or trust the notebook. <br />On GitHub, the HTML representation is unable to render, please try loading this page with nbviewer.org.</b></div><div class=\"sk-container\" hidden><div class=\"sk-item\"><div class=\"sk-estimator sk-toggleable\"><input class=\"sk-toggleable__control sk-hidden--visually\" id=\"sk-estimator-id-2\" type=\"checkbox\" checked><label for=\"sk-estimator-id-2\" class=\"sk-toggleable__label sk-toggleable__label-arrow\">RandomForestClassifier</label><div class=\"sk-toggleable__content\"><pre>RandomForestClassifier()</pre></div></div></div></div></div>"
      ],
      "text/plain": [
       "RandomForestClassifier()"
      ]
     },
     "execution_count": 27,
     "metadata": {},
     "output_type": "execute_result"
    }
   ],
   "source": [
    "# Retrain model\n",
    "X_train_selected = X_train[feature_importance.head(20)['feature']]\n",
    "X_test_selected = X_test[feature_importance.head(20)['feature']]\n",
    "rf = RandomForestClassifier()\n",
    "rf.fit(X_train_selected, y_train)"
   ]
  },
  {
   "cell_type": "code",
   "execution_count": 28,
   "metadata": {},
   "outputs": [
    {
     "name": "stdout",
     "output_type": "stream",
     "text": [
      "Accuracy: 0.6059417652996277\n",
      "              precision    recall  f1-score   support\n",
      "\n",
      "         0.0       0.49      0.49      0.49       288\n",
      "         1.0       0.08      0.07      0.08        41\n",
      "         2.0       0.00      0.00      0.00        50\n",
      "         3.0       0.08      0.06      0.07       160\n",
      "         4.0       0.22      0.15      0.18      1720\n",
      "         5.0       0.60      0.59      0.59     58135\n",
      "         6.0       0.53      0.48      0.50     29075\n",
      "         7.0       0.65      0.69      0.67     66074\n",
      "\n",
      "    accuracy                           0.61    155543\n",
      "   macro avg       0.33      0.32      0.32    155543\n",
      "weighted avg       0.60      0.61      0.60    155543\n",
      "\n"
     ]
    }
   ],
   "source": [
    "# Predict\n",
    "y_pred = rf.predict(X_test_selected)\n",
    "\n",
    "# Accuracy score\n",
    "accuracy = accuracy_score(y_test, y_pred)\n",
    "print('Accuracy:', accuracy)\n",
    "\n",
    "# Classification report\n",
    "print(classification_report(y_test, y_pred))"
   ]
  },
  {
   "cell_type": "markdown",
   "metadata": {},
   "source": [
    "The model still perform poorly, with pretty low accuracy score, precision, F1, recall. There is no improvement before and after apply Feature importance.\n",
    "\n",
    "Possible problems:\n",
    "* Imbalanced dataset\n",
    "* Inappropriate parameters\n",
    "\n",
    "I will solve the imbalance in the dataset.\n",
    "## 3. Imbalance resampling\n",
    "As mentioned above, this dataset is unbalanced. Therefore, I will apply `SMOTE-NC` to handle this imbalance.\n",
    "\n",
    "Firstly, I will calculate the weights for each class."
   ]
  },
  {
   "cell_type": "code",
   "execution_count": 29,
   "metadata": {},
   "outputs": [
    {
     "name": "stdout",
     "output_type": "stream",
     "text": [
      "Class Weights: {0.0: 62.769572235673934, 1.0: 449.54624277456645, 2.0: 329.54025423728814, 3.0: 121.32839313572543, 4.0: 11.067525259712538, 5.0: 0.33447374193076695, 6.0: 0.6654245989304813, 7.0: 0.2951905777683309}\n"
     ]
    }
   ],
   "source": [
    "class_weights = compute_class_weight('balanced', classes=np.unique(y_train), y=y_train)\n",
    "class_weight_dict = dict(zip(np.unique(y_train), class_weights))\n",
    "\n",
    "print(\"Class Weights:\", class_weight_dict)"
   ]
  },
  {
   "cell_type": "markdown",
   "metadata": {},
   "source": [
    "As can be shown, the weights are very unbalanced. Now I will apply SMOTE-NC, then retrain the model"
   ]
  },
  {
   "cell_type": "code",
   "execution_count": 32,
   "metadata": {},
   "outputs": [
    {
     "name": "stdout",
     "output_type": "stream",
     "text": [
      "Accuracy: 0.5766186842223694\n",
      "              precision    recall  f1-score   support\n",
      "\n",
      "         0.0       0.34      0.53      0.41       288\n",
      "         1.0       0.04      0.10      0.05        41\n",
      "         2.0       0.02      0.06      0.03        50\n",
      "         3.0       0.05      0.11      0.07       160\n",
      "         4.0       0.11      0.25      0.15      1720\n",
      "         5.0       0.60      0.56      0.58     58135\n",
      "         6.0       0.45      0.56      0.50     29075\n",
      "         7.0       0.67      0.61      0.64     66074\n",
      "\n",
      "    accuracy                           0.58    155543\n",
      "   macro avg       0.28      0.35      0.30    155543\n",
      "weighted avg       0.59      0.58      0.58    155543\n",
      "\n"
     ]
    }
   ],
   "source": [
    "# SMOTE\n",
    "smote = SMOTENC(categorical_features=list(range(6, 20)))\n",
    "X_train_smote_selected, y_train_smote = smote.fit_resample(X_train_selected, y_train)\n",
    "\n",
    "# Train model\n",
    "rf = RandomForestClassifier(class_weight=class_weight_dict)\n",
    "rf.fit(X_train_smote_selected, y_train_smote)\n",
    "\n",
    "# Predict\n",
    "y_pred = rf.predict(X_test_selected)\n",
    "\n",
    "# Accuracy score\n",
    "accuracy = accuracy_score(y_test, y_pred)\n",
    "print('Accuracy:', accuracy)\n",
    "\n",
    "# Classification report\n",
    "print(classification_report(y_test, y_pred))\n"
   ]
  },
  {
   "cell_type": "markdown",
   "metadata": {},
   "source": [
    "The accuracy is lower than that before resampling. However, I suppose that resampling is crucial for unbalanced datasets (like in this case). Therefore, I will use the resampled dataset for hyperparameter tuning to enhance the model.\n",
    "\n",
    "## 4. Hyperparameter tuning\n",
    "I use GridSearchCV for tuning the following hyperparameters:\n",
    "* `n_estimators`\n",
    "* `max_depth`\n",
    "* `min_samples_split`\n",
    "* `max_features` \n",
    "* `bootstrap`"
   ]
  },
  {
   "cell_type": "code",
   "execution_count": 33,
   "metadata": {},
   "outputs": [],
   "source": [
    "param_grid = {\n",
    "    'n_estimators': [50, 100],  \n",
    "    'max_depth': [10, 20], \n",
    "    'min_samples_split': [10, 20], \n",
    "    'max_features': ['sqrt', 'log2', None],\n",
    "    'bootstrap': [True, False]\n",
    "}"
   ]
  },
  {
   "cell_type": "code",
   "execution_count": 34,
   "metadata": {},
   "outputs": [],
   "source": [
    "# Set up GridSearchCV with cross-validation\n",
    "random_search = RandomizedSearchCV(\n",
    "    estimator=rf\n",
    "    , param_distributions=param_grid\n",
    "    , n_iter=10\n",
    "    , cv=5\n",
    "    , random_state=42\n",
    ")\n",
    "\n",
    "random_search.fit(X_train_smote_selected, y_train_smote)\n",
    "\n",
    "# Evaluation\n",
    "y_pred = random_search.best_estimator_.predict(X_test_selected)\n",
    "\n",
    "# Print classification report and accuracy score\n",
    "print(\"Classification Report:\")\n",
    "print(classification_report(y_test, y_pred))\n",
    "print(\"Accuracy Score:\", accuracy_score(y_test, y_pred))\n",
    "\n",
    "# Print the best hyperparameters\n",
    "print(\"Best Hyperparameters:\", random_search.best_params_)"
   ]
  },
  {
   "cell_type": "markdown",
   "metadata": {},
   "source": [
    "## 5. Voting ensemble method\n",
    "Here I use RandomForest, SVM, XGBoost and LightGBM for Voting."
   ]
  },
  {
   "cell_type": "code",
   "execution_count": null,
   "metadata": {},
   "outputs": [],
   "source": [
    "# Set up a set of estimators\n",
    "estimators = []\n",
    "\n",
    "\n",
    "# Define estimators\n",
    "rf = RandomForestClassifier(n_estimators = 50\n",
    "                              , min_samples_split = 20\n",
    "                              , max_features = None\n",
    "                              , max_depth = None\n",
    "                              , bootstrap = True ) # from hyperparameter tuning\n",
    "estimators.append(('RandomForest', rf))\n",
    "\n",
    "svm_clf = SVC(gamma='scale')\n",
    "estimators.append(('SVM', svm_clf))\n",
    "\n",
    "xgboost = XGBClassifier()\n",
    "estimators.append(('XGBoost', xgboost))\n",
    "\n",
    "lgbm = LGBMClassifier()\n",
    "estimators.append(('LightGBM', lgbm))\n",
    "\n",
    "\n",
    "# Train voting algo\n",
    "voting = VotingClassifier(estimators=estimators)\n",
    "voting.fit(X_train_smote_selected, y_train_smote)\n",
    "\n",
    "# Evaluation\n",
    "y_pred = voting.predict(X_test_selected)\n",
    "\n",
    "# Print classification report and accuracy score\n",
    "print(\"Classification Report:\")\n",
    "print(classification_report(y_test, y_pred))\n",
    "print(\"Accuracy Score:\", accuracy_score(y_test, y_pred))"
   ]
  }
 ],
 "metadata": {
  "kernelspec": {
   "display_name": "Python 3",
   "language": "python",
   "name": "python3"
  },
  "language_info": {
   "codemirror_mode": {
    "name": "ipython",
    "version": 3
   },
   "file_extension": ".py",
   "mimetype": "text/x-python",
   "name": "python",
   "nbconvert_exporter": "python",
   "pygments_lexer": "ipython3",
   "version": "3.11.4"
  }
 },
 "nbformat": 4,
 "nbformat_minor": 2
}
